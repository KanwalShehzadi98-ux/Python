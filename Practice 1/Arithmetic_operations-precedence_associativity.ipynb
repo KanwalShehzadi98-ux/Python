{
 "cells": [
  {
   "cell_type": "markdown",
   "id": "113dbda6",
   "metadata": {},
   "source": [
    "### Addition - Subtraction - Multiplication - Division (Float Division . Integer Division) -  Modulo  - Exponent\n",
    "\n",
    "### Precedence and Associativity"
   ]
  },
  {
   "cell_type": "code",
   "execution_count": 1,
   "id": "6f373b79",
   "metadata": {},
   "outputs": [
    {
     "name": "stdout",
     "output_type": "stream",
     "text": [
      "Addition 5\n"
     ]
    }
   ],
   "source": [
    "print(\"Addition\",2+3)"
   ]
  },
  {
   "cell_type": "code",
   "execution_count": 2,
   "id": "c30b8d08",
   "metadata": {},
   "outputs": [
    {
     "name": "stdout",
     "output_type": "stream",
     "text": [
      "Subtraction -1\n"
     ]
    }
   ],
   "source": [
    "print(\"Subtraction\",2-3)"
   ]
  },
  {
   "cell_type": "code",
   "execution_count": 4,
   "id": "28b33e59",
   "metadata": {},
   "outputs": [
    {
     "name": "stdout",
     "output_type": "stream",
     "text": [
      "Multiplication 6\n"
     ]
    }
   ],
   "source": [
    "print(\"Multiplication\",2*3)"
   ]
  },
  {
   "cell_type": "code",
   "execution_count": 6,
   "id": "c747da7d",
   "metadata": {},
   "outputs": [
    {
     "name": "stdout",
     "output_type": "stream",
     "text": [
      "Float Division 2.5\n"
     ]
    }
   ],
   "source": [
    "print(\"Float Division\",5/2)"
   ]
  },
  {
   "cell_type": "code",
   "execution_count": 7,
   "id": "98c7fcce",
   "metadata": {},
   "outputs": [
    {
     "name": "stdout",
     "output_type": "stream",
     "text": [
      "Integer Division 2\n"
     ]
    }
   ],
   "source": [
    "print(\"Integer Division\",5//2)"
   ]
  },
  {
   "cell_type": "code",
   "execution_count": 8,
   "id": "e9cddd7a",
   "metadata": {},
   "outputs": [
    {
     "name": "stdout",
     "output_type": "stream",
     "text": [
      "Modulo 1\n"
     ]
    }
   ],
   "source": [
    "print(\"Modulo\",5%2)"
   ]
  },
  {
   "cell_type": "code",
   "execution_count": 9,
   "id": "143ebeac",
   "metadata": {},
   "outputs": [
    {
     "name": "stdout",
     "output_type": "stream",
     "text": [
      "Exponent 25\n"
     ]
    }
   ],
   "source": [
    "print(\"Exponent\",5**2)"
   ]
  },
  {
   "cell_type": "code",
   "execution_count": 10,
   "id": "4f3d7505",
   "metadata": {},
   "outputs": [
    {
     "name": "stdout",
     "output_type": "stream",
     "text": [
      "1.4142135623730951\n"
     ]
    }
   ],
   "source": [
    "print(2**0.5)"
   ]
  },
  {
   "cell_type": "code",
   "execution_count": 11,
   "id": "935b682c",
   "metadata": {},
   "outputs": [
    {
     "name": "stdout",
     "output_type": "stream",
     "text": [
      "1\n"
     ]
    }
   ],
   "source": [
    "print(round(2**0.5))"
   ]
  },
  {
   "cell_type": "code",
   "execution_count": 12,
   "id": "1c67c8e5",
   "metadata": {},
   "outputs": [
    {
     "name": "stdout",
     "output_type": "stream",
     "text": [
      "1.4142\n"
     ]
    }
   ],
   "source": [
    "print(round(2**0.5,4))"
   ]
  },
  {
   "cell_type": "code",
   "execution_count": 16,
   "id": "347b41ae",
   "metadata": {},
   "outputs": [
    {
     "name": "stdout",
     "output_type": "stream",
     "text": [
      "1.4142135623730951 {.2f}\n"
     ]
    }
   ],
   "source": [
    "print(2**0.5,\"{.2f}\")"
   ]
  },
  {
   "cell_type": "markdown",
   "id": "1b5f7120",
   "metadata": {},
   "source": [
    "### Precedence and Associativity\n",
    "<table>\n",
    "    <thead>\n",
    "        <tr>\n",
    "            <th>Precedence</th>\n",
    "            <th>Associativity</th>\n",
    "        </tr>\n",
    "    </thead>\n",
    "    <tbody>\n",
    "        <tr>\n",
    "            <td>Parenthesis</td>\n",
    "            <td>Highest</td>\n",
    "        </tr>\n",
    "        <tr>\n",
    "            <td>Exponent</td>\n",
    "            <td>Right to Left</td>\n",
    "        </tr>\n",
    "        <tr>\n",
    "            <td>/ * // %</td>\n",
    "            <td>Left to Right</td>\n",
    "        </tr>\n",
    "        <tr>\n",
    "            <td>+ -</td>\n",
    "            <td>Left to Right</td>\n",
    "        </tr>\n",
    "    </tbody>\n",
    "</table>"
   ]
  },
  {
   "cell_type": "code",
   "execution_count": 17,
   "id": "ddba3111",
   "metadata": {},
   "outputs": [
    {
     "name": "stdout",
     "output_type": "stream",
     "text": [
      "24.0\n"
     ]
    }
   ],
   "source": [
    "print(2**3/2*6-4%(3-4/2))"
   ]
  },
  {
   "cell_type": "code",
   "execution_count": 18,
   "id": "51833c74",
   "metadata": {},
   "outputs": [
    {
     "name": "stdout",
     "output_type": "stream",
     "text": [
      "512\n"
     ]
    }
   ],
   "source": [
    "print(2**3**2)"
   ]
  },
  {
   "cell_type": "markdown",
   "id": "4a412079",
   "metadata": {},
   "source": [
    "#### 2**3/2*6-4%(3-2)\n",
    "#### 2**3/2*6-4%1\n",
    "#### 8/2*6-4%1\n",
    "####  4*6-4%1\n",
    "####  4*6-4%1\n",
    "#### 24-0\n",
    "#### 24"
   ]
  },
  {
   "cell_type": "code",
   "execution_count": null,
   "id": "a1bcf686",
   "metadata": {},
   "outputs": [],
   "source": []
  }
 ],
 "metadata": {
  "kernelspec": {
   "display_name": "Python 3 (ipykernel)",
   "language": "python",
   "name": "python3"
  },
  "language_info": {
   "codemirror_mode": {
    "name": "ipython",
    "version": 3
   },
   "file_extension": ".py",
   "mimetype": "text/x-python",
   "name": "python",
   "nbconvert_exporter": "python",
   "pygments_lexer": "ipython3",
   "version": "3.11.4"
  }
 },
 "nbformat": 4,
 "nbformat_minor": 5
}
