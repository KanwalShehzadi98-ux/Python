{
 "cells": [
  {
   "cell_type": "markdown",
   "id": "982aa9d2",
   "metadata": {},
   "source": [
    "# BASIC CODE FOR \n",
    "# PRINT() \n",
    "# ESCAPE SEQUENCES \n",
    "# COMMENTS\n",
    "# RAW STRINGS"
   ]
  },
  {
   "cell_type": "code",
   "execution_count": 1,
   "id": "40b10d2c",
   "metadata": {},
   "outputs": [
    {
     "name": "stdout",
     "output_type": "stream",
     "text": [
      "Hello World\n"
     ]
    }
   ],
   "source": [
    "print(\"Hello World\")"
   ]
  },
  {
   "cell_type": "code",
   "execution_count": 2,
   "id": "b0246e40",
   "metadata": {},
   "outputs": [
    {
     "name": "stdout",
     "output_type": "stream",
     "text": [
      "Hello \" World\n"
     ]
    }
   ],
   "source": [
    "print(\"Hello \\\" World\")"
   ]
  },
  {
   "cell_type": "code",
   "execution_count": 4,
   "id": "5748cce9",
   "metadata": {},
   "outputs": [
    {
     "name": "stdout",
     "output_type": "stream",
     "text": [
      "Hello \n",
      " World\n"
     ]
    }
   ],
   "source": [
    "print(\"Hello \\n World\")"
   ]
  },
  {
   "cell_type": "code",
   "execution_count": 5,
   "id": "4d134f80",
   "metadata": {},
   "outputs": [
    {
     "name": "stdout",
     "output_type": "stream",
     "text": [
      "Hello \n",
      "\" World\n"
     ]
    }
   ],
   "source": [
    "print(\"Hello \\n\\\" World\")"
   ]
  },
  {
   "cell_type": "code",
   "execution_count": 9,
   "id": "b71c38c9",
   "metadata": {},
   "outputs": [
    {
     "name": "stdout",
     "output_type": "stream",
     "text": [
      "Hello \n",
      " \\n \" World\n"
     ]
    }
   ],
   "source": [
    "print(\"Hello \\n \\\\n \\\" World\")"
   ]
  },
  {
   "cell_type": "code",
   "execution_count": 10,
   "id": "6e67b311",
   "metadata": {},
   "outputs": [
    {
     "name": "stdout",
     "output_type": "stream",
     "text": [
      "Hello 'Kanwal' World\n"
     ]
    }
   ],
   "source": [
    "print(\"Hello 'Kanwal' World\")"
   ]
  },
  {
   "cell_type": "code",
   "execution_count": 11,
   "id": "efec0785",
   "metadata": {},
   "outputs": [
    {
     "name": "stdout",
     "output_type": "stream",
     "text": [
      "Hello \"Kanwal\" World\n"
     ]
    }
   ],
   "source": [
    "print('Hello \"Kanwal\" World')"
   ]
  },
  {
   "cell_type": "code",
   "execution_count": 12,
   "id": "c5f1fcc4",
   "metadata": {},
   "outputs": [
    {
     "name": "stdout",
     "output_type": "stream",
     "text": [
      "Hello \"Kanwal\" World\n"
     ]
    }
   ],
   "source": [
    "print(\"Hello \\\"Kanwal\\\" World\")"
   ]
  },
  {
   "cell_type": "code",
   "execution_count": 14,
   "id": "28bceab7",
   "metadata": {},
   "outputs": [
    {
     "name": "stdout",
     "output_type": "stream",
     "text": [
      "Hello 'Kanwal' World\n"
     ]
    }
   ],
   "source": [
    "print('Hello \\'Kanwal\\' World')"
   ]
  },
  {
   "cell_type": "code",
   "execution_count": 15,
   "id": "da1885fb",
   "metadata": {},
   "outputs": [
    {
     "name": "stdout",
     "output_type": "stream",
     "text": [
      "Hello \\Kanwal World\n"
     ]
    }
   ],
   "source": [
    "print(\"Hello \\\\Kanwal World\")"
   ]
  },
  {
   "cell_type": "code",
   "execution_count": 16,
   "id": "d899fff4",
   "metadata": {},
   "outputs": [
    {
     "name": "stdout",
     "output_type": "stream",
     "text": [
      "Hello \\\\Kanwal World\n"
     ]
    }
   ],
   "source": [
    "print(\"Hello \\\\\\\\Kanwal World\")"
   ]
  },
  {
   "cell_type": "code",
   "execution_count": 17,
   "id": "7fdcf0e7",
   "metadata": {},
   "outputs": [
    {
     "name": "stdout",
     "output_type": "stream",
     "text": [
      "Hello \n",
      "\"Kanwal\" World\n"
     ]
    }
   ],
   "source": [
    "print(\"Hello \\n\\\"Kanwal\\\" World\")"
   ]
  },
  {
   "cell_type": "code",
   "execution_count": 18,
   "id": "4bf3a497",
   "metadata": {},
   "outputs": [
    {
     "name": "stdout",
     "output_type": "stream",
     "text": [
      "Hello \t\"Kanwal\" World\n"
     ]
    }
   ],
   "source": [
    "print(\"Hello \\t\\\"Kanwal\\\" World\")"
   ]
  },
  {
   "cell_type": "code",
   "execution_count": 19,
   "id": "2d0792de",
   "metadata": {},
   "outputs": [
    {
     "name": "stdout",
     "output_type": "stream",
     "text": [
      "Hello \b\"Kanwal\" World\n"
     ]
    }
   ],
   "source": [
    "print(\"Hello \\b\\\"Kanwal\\\" World\")"
   ]
  },
  {
   "cell_type": "code",
   "execution_count": 20,
   "id": "94d57446",
   "metadata": {},
   "outputs": [
    {
     "name": "stdout",
     "output_type": "stream",
     "text": [
      "Line A \\n Line B\n"
     ]
    }
   ],
   "source": [
    "#print Line A \\n Line B\n",
    "print(\"Line A \\\\n Line B\")"
   ]
  },
  {
   "cell_type": "code",
   "execution_count": 23,
   "id": "56dfeb21",
   "metadata": {},
   "outputs": [
    {
     "name": "stdout",
     "output_type": "stream",
     "text": [
      "\\\"\\'\n"
     ]
    }
   ],
   "source": [
    "#\\\"\\'\n",
    "print(\"\\\\\\\"\\\\\\'\")"
   ]
  },
  {
   "cell_type": "code",
   "execution_count": 24,
   "id": "46e1918e",
   "metadata": {},
   "outputs": [
    {
     "name": "stdout",
     "output_type": "stream",
     "text": [
      "this is a \\\\ double slash\n"
     ]
    }
   ],
   "source": [
    "#this is a \\\\ double slash\n",
    "print(\"this is a \\\\\\\\ double slash\")"
   ]
  },
  {
   "cell_type": "code",
   "execution_count": 28,
   "id": "713e12ca",
   "metadata": {},
   "outputs": [
    {
     "name": "stdout",
     "output_type": "stream",
     "text": [
      "this is /\\/\\/\\/\\/\\ mountain\n"
     ]
    }
   ],
   "source": [
    "#this is /\\/\\/\\/\\/\\ mountain\n",
    "print(\"this is /\\\\/\\\\/\\\\/\\\\/\\\\ mountain\")"
   ]
  },
  {
   "cell_type": "code",
   "execution_count": 29,
   "id": "1827bbd8",
   "metadata": {},
   "outputs": [
    {
     "name": "stdout",
     "output_type": "stream",
     "text": [
      "\\\"\\n\\t\\'\n"
     ]
    }
   ],
   "source": [
    "#\\\"\\n\\t\\'\n",
    "print(\"\\\\\\\"\\\\n\\\\t\\\\'\")"
   ]
  },
  {
   "cell_type": "markdown",
   "id": "0637affc",
   "metadata": {},
   "source": [
    "## BUT FOR ALL THIS WE CAN USE RAW STRINGS "
   ]
  },
  {
   "cell_type": "code",
   "execution_count": 33,
   "id": "797c8245",
   "metadata": {},
   "outputs": [
    {
     "name": "stdout",
     "output_type": "stream",
     "text": [
      "\\\"\\n\\t\\'\n"
     ]
    }
   ],
   "source": [
    "print(r\"\\\"\\n\\t\\'\")"
   ]
  },
  {
   "cell_type": "code",
   "execution_count": 35,
   "id": "2806f31e",
   "metadata": {},
   "outputs": [
    {
     "name": "stdout",
     "output_type": "stream",
     "text": [
      "this is /\\\\/\\/\\/\\/\\ mountain\n"
     ]
    }
   ],
   "source": [
    "print(r\"this is /\\\\/\\/\\/\\/\\ mountain\")"
   ]
  },
  {
   "cell_type": "code",
   "execution_count": 36,
   "id": "1066db9d",
   "metadata": {},
   "outputs": [
    {
     "name": "stdout",
     "output_type": "stream",
     "text": [
      "this is a \\\\ double slash\n"
     ]
    }
   ],
   "source": [
    "print(r\"this is a \\\\ double slash\")"
   ]
  },
  {
   "cell_type": "code",
   "execution_count": 38,
   "id": "d08c8e2a",
   "metadata": {},
   "outputs": [
    {
     "name": "stdout",
     "output_type": "stream",
     "text": [
      "\\\"\\'\n"
     ]
    }
   ],
   "source": [
    "print(r\"\\\"\\'\")"
   ]
  },
  {
   "cell_type": "code",
   "execution_count": 39,
   "id": "0c00a3a1",
   "metadata": {},
   "outputs": [
    {
     "name": "stdout",
     "output_type": "stream",
     "text": [
      "Line A \\n Line B\n"
     ]
    }
   ],
   "source": [
    "print(r\"Line A \\n Line B\")"
   ]
  },
  {
   "cell_type": "code",
   "execution_count": 47,
   "id": "f1fc862e",
   "metadata": {},
   "outputs": [
    {
     "ename": "SyntaxError",
     "evalue": "invalid syntax. Perhaps you forgot a comma? (1469160560.py, line 1)",
     "output_type": "error",
     "traceback": [
      "\u001b[1;36m  Cell \u001b[1;32mIn[47], line 1\u001b[1;36m\u001b[0m\n\u001b[1;33m    print(r\"Hello\"Kanwal\"World\")\u001b[0m\n\u001b[1;37m          ^\u001b[0m\n\u001b[1;31mSyntaxError\u001b[0m\u001b[1;31m:\u001b[0m invalid syntax. Perhaps you forgot a comma?\n"
     ]
    }
   ],
   "source": [
    "print(r\"Hello\"Kanwal\"World\")"
   ]
  },
  {
   "cell_type": "code",
   "execution_count": null,
   "id": "57738d6a",
   "metadata": {},
   "outputs": [],
   "source": []
  },
  {
   "cell_type": "code",
   "execution_count": null,
   "id": "8db15bff",
   "metadata": {},
   "outputs": [],
   "source": []
  }
 ],
 "metadata": {
  "kernelspec": {
   "display_name": "Python 3 (ipykernel)",
   "language": "python",
   "name": "python3"
  },
  "language_info": {
   "codemirror_mode": {
    "name": "ipython",
    "version": 3
   },
   "file_extension": ".py",
   "mimetype": "text/x-python",
   "name": "python",
   "nbconvert_exporter": "python",
   "pygments_lexer": "ipython3",
   "version": "3.11.4"
  }
 },
 "nbformat": 4,
 "nbformat_minor": 5
}
