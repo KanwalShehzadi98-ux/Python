{
 "cells": [
  {
   "cell_type": "markdown",
   "id": "60b62c1a",
   "metadata": {},
   "source": [
    "### Variables\n",
    "### Why Python is called Dynamic Programming Language\n",
    "### Naming Rules\n",
    "### Naming Conventions\n",
    "### String Concatenations"
   ]
  },
  {
   "cell_type": "code",
   "execution_count": 1,
   "id": "a1f64dd7",
   "metadata": {},
   "outputs": [
    {
     "name": "stdout",
     "output_type": "stream",
     "text": [
      "kanwal\n"
     ]
    }
   ],
   "source": [
    "name = \"kanwal\"\n",
    "print(name)"
   ]
  },
  {
   "cell_type": "code",
   "execution_count": 4,
   "id": "3a7ae8e4",
   "metadata": {},
   "outputs": [
    {
     "name": "stdout",
     "output_type": "stream",
     "text": [
      "kanwal\n",
      "123\n",
      "python i called dynamic programming language because first we stored string in variable name and then change the datatype by storing int in it\n"
     ]
    }
   ],
   "source": [
    "name = \"kanwal\"\n",
    "print(name)\n",
    "name = 123\n",
    "print(name)\n",
    "print(\"python i called dynamic programming language because first we stored string in variable name and \"+\n",
    "\"then change the datatype by storing int in it\")"
   ]
  },
  {
   "cell_type": "code",
   "execution_count": 5,
   "id": "441010b5",
   "metadata": {},
   "outputs": [
    {
     "ename": "SyntaxError",
     "evalue": "invalid decimal literal (4041948385.py, line 1)",
     "output_type": "error",
     "traceback": [
      "\u001b[1;36m  Cell \u001b[1;32mIn[5], line 1\u001b[1;36m\u001b[0m\n\u001b[1;33m    1name = \"kanwal\"\u001b[0m\n\u001b[1;37m    ^\u001b[0m\n\u001b[1;31mSyntaxError\u001b[0m\u001b[1;31m:\u001b[0m invalid decimal literal\n"
     ]
    }
   ],
   "source": [
    "1name = \"kanwal\""
   ]
  },
  {
   "cell_type": "code",
   "execution_count": 7,
   "id": "5e802d8c",
   "metadata": {},
   "outputs": [
    {
     "name": "stdout",
     "output_type": "stream",
     "text": [
      "Kanwal\n"
     ]
    }
   ],
   "source": [
    "_ = \"Kanwal\"\n",
    "print(_)"
   ]
  },
  {
   "cell_type": "code",
   "execution_count": 8,
   "id": "dc6541de",
   "metadata": {},
   "outputs": [
    {
     "name": "stdout",
     "output_type": "stream",
     "text": [
      "kanwal\n"
     ]
    }
   ],
   "source": [
    "_1name = \"kanwal\"\n",
    "print(_1name)"
   ]
  },
  {
   "cell_type": "markdown",
   "id": "ec4f84c7",
   "metadata": {},
   "source": [
    "<mark>A variable can begin with a letter underscore or only underscore but not with a number \n",
    "and may consist of letter underscore and or digits and has no special characters $ % @</mark>"
   ]
  },
  {
   "cell_type": "code",
   "execution_count": 11,
   "id": "2f5ec0f3",
   "metadata": {},
   "outputs": [
    {
     "ename": "SyntaxError",
     "evalue": "invalid syntax (2862014937.py, line 1)",
     "output_type": "error",
     "traceback": [
      "\u001b[1;36m  Cell \u001b[1;32mIn[11], line 1\u001b[1;36m\u001b[0m\n\u001b[1;33m    _$name = \"kanwal\"\u001b[0m\n\u001b[1;37m     ^\u001b[0m\n\u001b[1;31mSyntaxError\u001b[0m\u001b[1;31m:\u001b[0m invalid syntax\n"
     ]
    }
   ],
   "source": [
    "_$name = \"kanwal\"\n",
    "print(_$name)"
   ]
  },
  {
   "cell_type": "code",
   "execution_count": 12,
   "id": "578609bd",
   "metadata": {},
   "outputs": [
    {
     "ename": "SyntaxError",
     "evalue": "cannot assign to expression here. Maybe you meant '==' instead of '='? (857778693.py, line 1)",
     "output_type": "error",
     "traceback": [
      "\u001b[1;36m  Cell \u001b[1;32mIn[12], line 1\u001b[1;36m\u001b[0m\n\u001b[1;33m    _%name = \"kanwal\"\u001b[0m\n\u001b[1;37m    ^\u001b[0m\n\u001b[1;31mSyntaxError\u001b[0m\u001b[1;31m:\u001b[0m cannot assign to expression here. Maybe you meant '==' instead of '='?\n"
     ]
    }
   ],
   "source": [
    "_%name = \"kanwal\"\n",
    "print(_%name)"
   ]
  },
  {
   "cell_type": "code",
   "execution_count": 13,
   "id": "bd648335",
   "metadata": {},
   "outputs": [
    {
     "ename": "SyntaxError",
     "evalue": "cannot assign to expression here. Maybe you meant '==' instead of '='? (49746936.py, line 1)",
     "output_type": "error",
     "traceback": [
      "\u001b[1;36m  Cell \u001b[1;32mIn[13], line 1\u001b[1;36m\u001b[0m\n\u001b[1;33m    _@name = \"kanwal\"\u001b[0m\n\u001b[1;37m    ^\u001b[0m\n\u001b[1;31mSyntaxError\u001b[0m\u001b[1;31m:\u001b[0m cannot assign to expression here. Maybe you meant '==' instead of '='?\n"
     ]
    }
   ],
   "source": [
    "_@name = \"kanwal\"\n",
    "print(_@name)"
   ]
  },
  {
   "cell_type": "code",
   "execution_count": 14,
   "id": "cbb65eb3",
   "metadata": {},
   "outputs": [
    {
     "name": "stdout",
     "output_type": "stream",
     "text": [
      "Kanwal shehz\n"
     ]
    }
   ],
   "source": [
    "first_name = \"Kanwal\"\n",
    "last_name = \"shehz\"\n",
    "print(first_name+\" \"+last_name)"
   ]
  },
  {
   "cell_type": "code",
   "execution_count": 15,
   "id": "b7d98991",
   "metadata": {},
   "outputs": [
    {
     "ename": "TypeError",
     "evalue": "can only concatenate str (not \"int\") to str",
     "output_type": "error",
     "traceback": [
      "\u001b[1;31m---------------------------------------------------------------------------\u001b[0m",
      "\u001b[1;31mTypeError\u001b[0m                                 Traceback (most recent call last)",
      "Cell \u001b[1;32mIn[15], line 1\u001b[0m\n\u001b[1;32m----> 1\u001b[0m \u001b[38;5;28mprint\u001b[39m(\u001b[38;5;124m\"\u001b[39m\u001b[38;5;124mKanwal\u001b[39m\u001b[38;5;124m\"\u001b[39m\u001b[38;5;241m+\u001b[39m\u001b[38;5;241m3\u001b[39m)\n",
      "\u001b[1;31mTypeError\u001b[0m: can only concatenate str (not \"int\") to str"
     ]
    }
   ],
   "source": [
    "print(\"Kanwal\"+3)"
   ]
  },
  {
   "cell_type": "code",
   "execution_count": 16,
   "id": "90162cc2",
   "metadata": {},
   "outputs": [
    {
     "name": "stdout",
     "output_type": "stream",
     "text": [
      "Kanwal3\n"
     ]
    }
   ],
   "source": [
    "print(\"Kanwal\"+\"3\")"
   ]
  },
  {
   "cell_type": "code",
   "execution_count": 17,
   "id": "b549be55",
   "metadata": {},
   "outputs": [
    {
     "name": "stdout",
     "output_type": "stream",
     "text": [
      "Kanwal3\n"
     ]
    }
   ],
   "source": [
    "print(\"Kanwal\"+str(3))"
   ]
  },
  {
   "cell_type": "code",
   "execution_count": 20,
   "id": "6014a63b",
   "metadata": {},
   "outputs": [
    {
     "name": "stdout",
     "output_type": "stream",
     "text": [
      "kanwal\n",
      "kanwal\n",
      "kanwal\n",
      "kanwal\n",
      "kanwal\n",
      "\n"
     ]
    }
   ],
   "source": [
    "print(\"kanwal\\n\"*5)"
   ]
  },
  {
   "cell_type": "code",
   "execution_count": null,
   "id": "43ecc98c",
   "metadata": {},
   "outputs": [],
   "source": []
  }
 ],
 "metadata": {
  "kernelspec": {
   "display_name": "Python 3 (ipykernel)",
   "language": "python",
   "name": "python3"
  },
  "language_info": {
   "codemirror_mode": {
    "name": "ipython",
    "version": 3
   },
   "file_extension": ".py",
   "mimetype": "text/x-python",
   "name": "python",
   "nbconvert_exporter": "python",
   "pygments_lexer": "ipython3",
   "version": "3.11.4"
  }
 },
 "nbformat": 4,
 "nbformat_minor": 5
}
