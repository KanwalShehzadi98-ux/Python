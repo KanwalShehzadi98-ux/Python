{
 "cells": [
  {
   "cell_type": "code",
   "execution_count": 4,
   "id": "4a9722b2",
   "metadata": {},
   "outputs": [
    {
     "data": {
      "text/html": [
       "<div>\n",
       "<style scoped>\n",
       "    .dataframe tbody tr th:only-of-type {\n",
       "        vertical-align: middle;\n",
       "    }\n",
       "\n",
       "    .dataframe tbody tr th {\n",
       "        vertical-align: top;\n",
       "    }\n",
       "\n",
       "    .dataframe thead th {\n",
       "        text-align: right;\n",
       "    }\n",
       "</style>\n",
       "<table border=\"1\" class=\"dataframe\">\n",
       "  <thead>\n",
       "    <tr style=\"text-align: right;\">\n",
       "      <th></th>\n",
       "      <th>year</th>\n",
       "      <th>state</th>\n",
       "      <th>month</th>\n",
       "      <th>number</th>\n",
       "      <th>date</th>\n",
       "    </tr>\n",
       "  </thead>\n",
       "  <tbody>\n",
       "    <tr>\n",
       "      <th>0</th>\n",
       "      <td>1998</td>\n",
       "      <td>Acre</td>\n",
       "      <td>Janeiro</td>\n",
       "      <td>0.0</td>\n",
       "      <td>1998-01-01</td>\n",
       "    </tr>\n",
       "    <tr>\n",
       "      <th>1</th>\n",
       "      <td>1999</td>\n",
       "      <td>Acre</td>\n",
       "      <td>Janeiro</td>\n",
       "      <td>0.0</td>\n",
       "      <td>1999-01-01</td>\n",
       "    </tr>\n",
       "    <tr>\n",
       "      <th>2</th>\n",
       "      <td>2000</td>\n",
       "      <td>Acre</td>\n",
       "      <td>Janeiro</td>\n",
       "      <td>0.0</td>\n",
       "      <td>2000-01-01</td>\n",
       "    </tr>\n",
       "    <tr>\n",
       "      <th>3</th>\n",
       "      <td>2001</td>\n",
       "      <td>Acre</td>\n",
       "      <td>Janeiro</td>\n",
       "      <td>0.0</td>\n",
       "      <td>2001-01-01</td>\n",
       "    </tr>\n",
       "    <tr>\n",
       "      <th>4</th>\n",
       "      <td>2002</td>\n",
       "      <td>Acre</td>\n",
       "      <td>Janeiro</td>\n",
       "      <td>0.0</td>\n",
       "      <td>2002-01-01</td>\n",
       "    </tr>\n",
       "    <tr>\n",
       "      <th>...</th>\n",
       "      <td>...</td>\n",
       "      <td>...</td>\n",
       "      <td>...</td>\n",
       "      <td>...</td>\n",
       "      <td>...</td>\n",
       "    </tr>\n",
       "    <tr>\n",
       "      <th>6449</th>\n",
       "      <td>2012</td>\n",
       "      <td>Tocantins</td>\n",
       "      <td>Dezembro</td>\n",
       "      <td>128.0</td>\n",
       "      <td>2012-01-01</td>\n",
       "    </tr>\n",
       "    <tr>\n",
       "      <th>6450</th>\n",
       "      <td>2013</td>\n",
       "      <td>Tocantins</td>\n",
       "      <td>Dezembro</td>\n",
       "      <td>85.0</td>\n",
       "      <td>2013-01-01</td>\n",
       "    </tr>\n",
       "    <tr>\n",
       "      <th>6451</th>\n",
       "      <td>2014</td>\n",
       "      <td>Tocantins</td>\n",
       "      <td>Dezembro</td>\n",
       "      <td>223.0</td>\n",
       "      <td>2014-01-01</td>\n",
       "    </tr>\n",
       "    <tr>\n",
       "      <th>6452</th>\n",
       "      <td>2015</td>\n",
       "      <td>Tocantins</td>\n",
       "      <td>Dezembro</td>\n",
       "      <td>373.0</td>\n",
       "      <td>2015-01-01</td>\n",
       "    </tr>\n",
       "    <tr>\n",
       "      <th>6453</th>\n",
       "      <td>2016</td>\n",
       "      <td>Tocantins</td>\n",
       "      <td>Dezembro</td>\n",
       "      <td>119.0</td>\n",
       "      <td>2016-01-01</td>\n",
       "    </tr>\n",
       "  </tbody>\n",
       "</table>\n",
       "<p>6454 rows × 5 columns</p>\n",
       "</div>"
      ],
      "text/plain": [
       "      year      state     month  number        date\n",
       "0     1998       Acre   Janeiro     0.0  1998-01-01\n",
       "1     1999       Acre   Janeiro     0.0  1999-01-01\n",
       "2     2000       Acre   Janeiro     0.0  2000-01-01\n",
       "3     2001       Acre   Janeiro     0.0  2001-01-01\n",
       "4     2002       Acre   Janeiro     0.0  2002-01-01\n",
       "...    ...        ...       ...     ...         ...\n",
       "6449  2012  Tocantins  Dezembro   128.0  2012-01-01\n",
       "6450  2013  Tocantins  Dezembro    85.0  2013-01-01\n",
       "6451  2014  Tocantins  Dezembro   223.0  2014-01-01\n",
       "6452  2015  Tocantins  Dezembro   373.0  2015-01-01\n",
       "6453  2016  Tocantins  Dezembro   119.0  2016-01-01\n",
       "\n",
       "[6454 rows x 5 columns]"
      ]
     },
     "execution_count": 4,
     "metadata": {},
     "output_type": "execute_result"
    }
   ],
   "source": [
    "import pandas as pd\n",
    "df = pd.read_csv('amazon.csv',encoding=\"latin-1\")\n",
    "df"
   ]
  },
  {
   "cell_type": "code",
   "execution_count": 12,
   "id": "663b5dc6",
   "metadata": {},
   "outputs": [
    {
     "data": {
      "text/plain": [
       "2008"
      ]
     },
     "execution_count": 12,
     "metadata": {},
     "output_type": "execute_result"
    }
   ],
   "source": [
    "max_fire_index = df[\"number\"].idxmax()\n",
    "year = df.loc[max_fire_index, 'year'] \n",
    "year"
   ]
  },
  {
   "cell_type": "code",
   "execution_count": 13,
   "id": "f477f58b",
   "metadata": {},
   "outputs": [
    {
     "data": {
      "text/html": [
       "<div>\n",
       "<style scoped>\n",
       "    .dataframe tbody tr th:only-of-type {\n",
       "        vertical-align: middle;\n",
       "    }\n",
       "\n",
       "    .dataframe tbody tr th {\n",
       "        vertical-align: top;\n",
       "    }\n",
       "\n",
       "    .dataframe thead th {\n",
       "        text-align: right;\n",
       "    }\n",
       "</style>\n",
       "<table border=\"1\" class=\"dataframe\">\n",
       "  <thead>\n",
       "    <tr style=\"text-align: right;\">\n",
       "      <th></th>\n",
       "      <th>year</th>\n",
       "      <th>state</th>\n",
       "      <th>month</th>\n",
       "      <th>number</th>\n",
       "      <th>date</th>\n",
       "    </tr>\n",
       "  </thead>\n",
       "  <tbody>\n",
       "    <tr>\n",
       "      <th>0</th>\n",
       "      <td>1998</td>\n",
       "      <td>Acre</td>\n",
       "      <td>Janeiro</td>\n",
       "      <td>0.000</td>\n",
       "      <td>1998-01-01</td>\n",
       "    </tr>\n",
       "    <tr>\n",
       "      <th>6415</th>\n",
       "      <td>1998</td>\n",
       "      <td>Tocantins</td>\n",
       "      <td>Novembro</td>\n",
       "      <td>1.000</td>\n",
       "      <td>1998-01-01</td>\n",
       "    </tr>\n",
       "    <tr>\n",
       "      <th>2790</th>\n",
       "      <td>1998</td>\n",
       "      <td>Mato Grosso</td>\n",
       "      <td>Setembro</td>\n",
       "      <td>457.000</td>\n",
       "      <td>1998-01-01</td>\n",
       "    </tr>\n",
       "    <tr>\n",
       "      <th>2810</th>\n",
       "      <td>1998</td>\n",
       "      <td>Mato Grosso</td>\n",
       "      <td>Outubro</td>\n",
       "      <td>576.000</td>\n",
       "      <td>1998-01-01</td>\n",
       "    </tr>\n",
       "    <tr>\n",
       "      <th>2830</th>\n",
       "      <td>1998</td>\n",
       "      <td>Mato Grosso</td>\n",
       "      <td>Novembro</td>\n",
       "      <td>306.000</td>\n",
       "      <td>1998-01-01</td>\n",
       "    </tr>\n",
       "    <tr>\n",
       "      <th>...</th>\n",
       "      <td>...</td>\n",
       "      <td>...</td>\n",
       "      <td>...</td>\n",
       "      <td>...</td>\n",
       "      <td>...</td>\n",
       "    </tr>\n",
       "    <tr>\n",
       "      <th>4601</th>\n",
       "      <td>2017</td>\n",
       "      <td>Rio</td>\n",
       "      <td>Março</td>\n",
       "      <td>3.000</td>\n",
       "      <td>2017-01-01</td>\n",
       "    </tr>\n",
       "    <tr>\n",
       "      <th>2490</th>\n",
       "      <td>2017</td>\n",
       "      <td>Mato Grosso</td>\n",
       "      <td>Maio</td>\n",
       "      <td>845.000</td>\n",
       "      <td>2017-01-01</td>\n",
       "    </tr>\n",
       "    <tr>\n",
       "      <th>2510</th>\n",
       "      <td>2017</td>\n",
       "      <td>Mato Grosso</td>\n",
       "      <td>Junho</td>\n",
       "      <td>2.041</td>\n",
       "      <td>2017-01-01</td>\n",
       "    </tr>\n",
       "    <tr>\n",
       "      <th>4641</th>\n",
       "      <td>2017</td>\n",
       "      <td>Rio</td>\n",
       "      <td>Maio</td>\n",
       "      <td>2.000</td>\n",
       "      <td>2017-01-01</td>\n",
       "    </tr>\n",
       "    <tr>\n",
       "      <th>4880</th>\n",
       "      <td>2017</td>\n",
       "      <td>Rio</td>\n",
       "      <td>Maio</td>\n",
       "      <td>43.000</td>\n",
       "      <td>2017-01-01</td>\n",
       "    </tr>\n",
       "  </tbody>\n",
       "</table>\n",
       "<p>6454 rows × 5 columns</p>\n",
       "</div>"
      ],
      "text/plain": [
       "      year        state     month   number        date\n",
       "0     1998         Acre   Janeiro    0.000  1998-01-01\n",
       "6415  1998    Tocantins  Novembro    1.000  1998-01-01\n",
       "2790  1998  Mato Grosso  Setembro  457.000  1998-01-01\n",
       "2810  1998  Mato Grosso   Outubro  576.000  1998-01-01\n",
       "2830  1998  Mato Grosso  Novembro  306.000  1998-01-01\n",
       "...    ...          ...       ...      ...         ...\n",
       "4601  2017          Rio     Março    3.000  2017-01-01\n",
       "2490  2017  Mato Grosso      Maio  845.000  2017-01-01\n",
       "2510  2017  Mato Grosso     Junho    2.041  2017-01-01\n",
       "4641  2017          Rio      Maio    2.000  2017-01-01\n",
       "4880  2017          Rio      Maio   43.000  2017-01-01\n",
       "\n",
       "[6454 rows x 5 columns]"
      ]
     },
     "execution_count": 13,
     "metadata": {},
     "output_type": "execute_result"
    }
   ],
   "source": [
    "df_sorted = df.sort_values(by='year', ascending=True)\n",
    "df_sorted\n"
   ]
  },
  {
   "cell_type": "code",
   "execution_count": 16,
   "id": "139acf97",
   "metadata": {},
   "outputs": [
    {
     "name": "stdout",
     "output_type": "stream",
     "text": [
      "     year      month    number\n",
      "0    1998      Abril     0.000\n",
      "1    1998     Agosto  3964.616\n",
      "2    1998   Dezembro  2043.407\n",
      "3    1998  Fevereiro     0.000\n",
      "4    1998    Janeiro     0.000\n",
      "..    ...        ...       ...\n",
      "234  2017       Maio  2506.000\n",
      "235  2017      Março  2017.000\n",
      "236  2017   Novembro  6217.379\n",
      "237  2017    Outubro  3600.159\n",
      "238  2017   Setembro  2779.317\n",
      "\n",
      "[239 rows x 3 columns]\n"
     ]
    }
   ],
   "source": [
    "import pandas as pd\n",
    "df = pd.read_csv('amazon.csv', encoding='latin-1')\n",
    "grouped_data = df.groupby(['year', 'month'])['number'].sum().reset_index()\n",
    "sorted_data = grouped_data.sort_values(by=['year', 'month'], ascending=[True, True])\n",
    "print(sorted_data)"
   ]
  },
  {
   "cell_type": "code",
   "execution_count": 34,
   "id": "42982e3b",
   "metadata": {},
   "outputs": [
    {
     "name": "stdout",
     "output_type": "stream",
     "text": [
      "   year     number\n",
      "5  2003  42760.674\n"
     ]
    }
   ],
   "source": [
    "import pandas as pd\n",
    "df = pd.read_csv('amazon.csv', encoding='latin-1')\n",
    "yearly_fires = df.groupby('year')['number'].sum().reset_index()\n",
    "max_fires = yearly_fires['number'].max()\n",
    "year_with_max_fires = yearly_fires[yearly_fires['number'] == max_fires]\n",
    "print(year_with_max_fires)"
   ]
  },
  {
   "cell_type": "code",
   "execution_count": 36,
   "id": "c49c93c3",
   "metadata": {},
   "outputs": [
    {
     "name": "stdout",
     "output_type": "stream",
     "text": [
      "               state      number\n",
      "20         Sao Paulo  213.896226\n",
      "10       Mato Grosso  201.351523\n",
      "4              Bahia  187.222703\n",
      "15              Piau  158.174674\n",
      "8              Goias  157.721841\n",
      "11      Minas Gerais  156.800243\n",
      "22         Tocantins  141.037176\n",
      "3           Amazonas  128.243218\n",
      "5              Ceara  127.314071\n",
      "12           Paraiba  109.698573\n",
      "9           Maranhao  105.142808\n",
      "13              Pará  102.561272\n",
      "14        Pernambuco  102.502092\n",
      "18           Roraima  102.029598\n",
      "19    Santa Catarina  101.924067\n",
      "2              Amapa   91.345506\n",
      "17          Rondonia   84.876272\n",
      "0               Acre   77.255356\n",
      "16               Rio   62.985865\n",
      "7     Espirito Santo   27.389121\n",
      "1            Alagoas   19.350000\n",
      "6   Distrito Federal   14.899582\n",
      "21           Sergipe   13.543933\n"
     ]
    }
   ],
   "source": [
    "import pandas as pd\n",
    "df = pd.read_csv('amazon.csv', encoding='latin-1')\n",
    "state_avg_fires = df.groupby('state')['number'].mean().reset_index()\n",
    "state_avg_fires_sorted = state_avg_fires.sort_values(by='number', ascending=False)\n",
    "print(state_avg_fires_sorted)"
   ]
  },
  {
   "cell_type": "code",
   "execution_count": 41,
   "id": "ed09f545",
   "metadata": {},
   "outputs": [
    {
     "name": "stdout",
     "output_type": "stream",
     "text": [
      "State names where fires were reported in December:\n",
      " ['Acre' 'Alagoas' 'Amapa' 'Amazonas' 'Bahia' 'Ceara' 'Distrito Federal'\n",
      " 'Espirito Santo' 'Goias' 'Maranhao' 'Mato Grosso' 'Minas Gerais' 'Pará'\n",
      " 'Paraiba' 'Pernambuco' 'Piau' 'Rio' 'Rondonia' 'Roraima' 'Santa Catarina'\n",
      " 'Sao Paulo' 'Sergipe' 'Tocantins']\n"
     ]
    }
   ],
   "source": [
    "import pandas as pd\n",
    "df = pd.read_csv('amazon.csv', encoding='latin-1')\n",
    "december_fires = df[df['month'] == 'Dezembro']\n",
    "december_fires\n",
    "state_names_dec = december_fires['state'].unique()\n",
    "print(\"State names where fires were reported in December:\\n\", state_names_dec)"
   ]
  },
  {
   "cell_type": "code",
   "execution_count": 45,
   "id": "4c58009e",
   "metadata": {},
   "outputs": [
    {
     "name": "stdout",
     "output_type": "stream",
     "text": [
      "Top 3 states with the highest number of fires reported:\n",
      "          state     number\n",
      "10  Mato Grosso  96246.028\n",
      "12      Paraiba  52435.918\n",
      "20    Sao Paulo  51121.198\n"
     ]
    }
   ],
   "source": [
    "import pandas as pd\n",
    "df = pd.read_csv('amazon.csv', encoding='latin-1')\n",
    "state_total_fires = df.groupby('state')['number'].sum().reset_index()\n",
    "state_total_fires_sorted = state_total_fires.sort_values(by='number', ascending=False)\n",
    "top_3_states = state_total_fires_sorted.head(3)\n",
    "print(\"Top 3 states with the highest number of fires reported:\")\n",
    "print(top_3_states)"
   ]
  },
  {
   "cell_type": "code",
   "execution_count": 46,
   "id": "3f521a5b",
   "metadata": {},
   "outputs": [
    {
     "name": "stdout",
     "output_type": "stream",
     "text": [
      "Second response - Fires from Bahia, Acre, and Rio from 2010 to 2015 with number of fires greater than 0:\n",
      "      year state      month  number        date\n",
      "12    2010  Acre    Janeiro     1.0  2010-01-01\n",
      "17    2015  Acre    Janeiro     1.0  2015-01-01\n",
      "37    2015  Acre  Fevereiro     2.0  2015-01-01\n",
      "54    2012  Acre      Março     1.0  2012-01-01\n",
      "55    2013  Acre      Março     2.0  2013-01-01\n",
      "...    ...   ...        ...     ...         ...\n",
      "5014  2011   Rio   Dezembro    69.0  2011-01-01\n",
      "5015  2012   Rio   Dezembro    38.0  2012-01-01\n",
      "5016  2013   Rio   Dezembro    62.0  2013-01-01\n",
      "5017  2014   Rio   Dezembro    31.0  2014-01-01\n",
      "5018  2015   Rio   Dezembro    42.0  2015-01-01\n",
      "\n",
      "[344 rows x 5 columns]\n"
     ]
    }
   ],
   "source": [
    "import pandas as pd\n",
    "df = pd.read_csv('amazon.csv', encoding='latin-1')\n",
    "filtered_data = df[(df['year'] >= 2010) & (df['year'] <= 2015)]\n",
    "target_states = ['Bahia', 'Acre', 'Rio']\n",
    "filtered_states = filtered_data[filtered_data['state'].isin(target_states)]\n",
    "filtered_states_with_fires = filtered_states[filtered_states['number'] > 0]\n",
    "print(\"Fires from Bahia, Acre, and Rio from 2010 to 2015 with number of fires greater than 0:\")\n",
    "print(filtered_states_with_fires)"
   ]
  },
  {
   "cell_type": "code",
   "execution_count": 47,
   "id": "74841f05",
   "metadata": {},
   "outputs": [
    {
     "name": "stdout",
     "output_type": "stream",
     "text": [
      "Year-wise fires for the state with the highest number of fires:\n",
      "     year        state    number\n",
      "10   1998  Mato Grosso  2401.389\n",
      "33   1999  Mato Grosso  2979.399\n",
      "56   2000  Mato Grosso  3897.266\n",
      "79   2001  Mato Grosso  3088.075\n",
      "102  2002  Mato Grosso  3665.503\n",
      "125  2003  Mato Grosso  6939.854\n",
      "148  2004  Mato Grosso  4811.176\n",
      "171  2005  Mato Grosso  5386.715\n",
      "194  2006  Mato Grosso  4286.385\n",
      "217  2007  Mato Grosso  3515.704\n",
      "240  2008  Mato Grosso  3399.903\n",
      "263  2009  Mato Grosso  8188.717\n",
      "286  2010  Mato Grosso  6252.445\n",
      "309  2011  Mato Grosso  5388.206\n",
      "332  2012  Mato Grosso  5341.250\n",
      "355  2013  Mato Grosso  5238.111\n",
      "378  2014  Mato Grosso  5890.597\n",
      "401  2015  Mato Grosso  6261.087\n",
      "424  2016  Mato Grosso  3652.919\n",
      "447  2017  Mato Grosso  5661.327\n"
     ]
    }
   ],
   "source": [
    "import pandas as pd\n",
    "df = pd.read_csv('amazon.csv', encoding='latin-1')\n",
    "year_state_fires = df.groupby(['year', 'state'])['number'].sum().reset_index()\n",
    "state_with_highest_fires = year_state_fires.groupby('state')['number'].sum().idxmax()\n",
    "filtered_data = year_state_fires[year_state_fires['state'] == state_with_highest_fires]\n",
    "print(\"Year-wise fires for the state with the highest number of fires:\")\n",
    "print(filtered_data)"
   ]
  },
  {
   "cell_type": "code",
   "execution_count": 49,
   "id": "e38a0fb2",
   "metadata": {},
   "outputs": [
    {
     "name": "stdout",
     "output_type": "stream",
     "text": [
      "Aggregate Statistics of Number of Fires State-wise:\n",
      "               State      Total  Count     Average    Max  Min\n",
      "0               Acre  18464.030    239   77.255356  960.0  0.0\n",
      "1            Alagoas   4644.000    240   19.350000  162.0  0.0\n",
      "2              Amapa  21831.576    239   91.345506  969.0  0.0\n",
      "3           Amazonas  30650.129    239  128.243218  998.0  0.0\n",
      "4              Bahia  44746.226    239  187.222703  995.0  0.0\n",
      "5              Ceara  30428.063    239  127.314071  995.0  0.0\n",
      "6   Distrito Federal   3561.000    239   14.899582  196.0  0.0\n",
      "7     Espirito Santo   6546.000    239   27.389121  307.0  0.0\n",
      "8              Goias  37695.520    239  157.721841  943.0  0.0\n",
      "9           Maranhao  25129.131    239  105.142808  972.0  0.0\n",
      "10       Mato Grosso  96246.028    478  201.351523  979.0  0.0\n",
      "11      Minas Gerais  37475.258    239  156.800243  959.0  0.0\n",
      "12           Paraiba  52435.918    478  109.698573  987.0  0.0\n",
      "13              Pará  24512.144    239  102.561272  982.0  0.0\n",
      "14        Pernambuco  24498.000    239  102.502092  859.0  0.0\n",
      "15              Piau  37803.747    239  158.174674  943.0  0.0\n",
      "16               Rio  45160.865    717   62.985865  885.0  0.0\n",
      "17          Rondonia  20285.429    239   84.876272  969.0  0.0\n",
      "18           Roraima  24385.074    239  102.029598  820.0  0.0\n",
      "19    Santa Catarina  24359.852    239  101.924067  765.0  0.0\n",
      "20         Sao Paulo  51121.198    239  213.896226  981.0  0.0\n",
      "21           Sergipe   3237.000    239   13.543933  198.0  0.0\n",
      "22         Tocantins  33707.885    239  141.037176  989.0  0.0\n"
     ]
    }
   ],
   "source": [
    "import pandas as pd\n",
    "df = pd.read_csv('amazon.csv', encoding='latin-1')\n",
    "state_agg_stats = df.groupby('state')['number'].agg(['sum', 'count', 'mean', 'max', 'min']).reset_index()\n",
    "state_agg_stats.columns = ['State', 'Total', 'Count', 'Average', 'Max', 'Min']\n",
    "print(\"Aggregate Statistics of Number of Fires State-wise:\")\n",
    "print(state_agg_stats)"
   ]
  },
  {
   "cell_type": "code",
   "execution_count": null,
   "id": "c2cec388",
   "metadata": {},
   "outputs": [],
   "source": []
  }
 ],
 "metadata": {
  "kernelspec": {
   "display_name": "Python 3 (ipykernel)",
   "language": "python",
   "name": "python3"
  },
  "language_info": {
   "codemirror_mode": {
    "name": "ipython",
    "version": 3
   },
   "file_extension": ".py",
   "mimetype": "text/x-python",
   "name": "python",
   "nbconvert_exporter": "python",
   "pygments_lexer": "ipython3",
   "version": "3.11.4"
  }
 },
 "nbformat": 4,
 "nbformat_minor": 5
}
