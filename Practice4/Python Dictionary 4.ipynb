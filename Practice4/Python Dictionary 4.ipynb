{
 "cells": [
  {
   "cell_type": "markdown",
   "id": "a046c498",
   "metadata": {},
   "source": [
    "# Practice 1"
   ]
  },
  {
   "cell_type": "code",
   "execution_count": 3,
   "id": "3a8c2902",
   "metadata": {},
   "outputs": [
    {
     "name": "stdout",
     "output_type": "stream",
     "text": [
      "{1: 1, 2: 8, 3: 27, 4: 64}\n"
     ]
    }
   ],
   "source": [
    "def cube_dict(n):\n",
    "    my_dict = {}\n",
    "    for i in range(1,n+1):\n",
    "        my_dict[i] = i**3\n",
    "    return my_dict\n",
    "print(cube_dict(4))"
   ]
  },
  {
   "cell_type": "markdown",
   "id": "87f617ff",
   "metadata": {},
   "source": [
    "# Practice 2"
   ]
  },
  {
   "cell_type": "code",
   "execution_count": 8,
   "id": "55cf803d",
   "metadata": {},
   "outputs": [
    {
     "name": "stdout",
     "output_type": "stream",
     "text": [
      "{'K': 1, 'a': 2, 'n': 1, 'w': 1, 'l': 1}\n"
     ]
    }
   ],
   "source": [
    "def word_counter(word):\n",
    "    word_count_dict = {}\n",
    "    for i in word:\n",
    "        word_count_dict[i] = word.count(i)\n",
    "    return word_count_dict\n",
    "print(word_counter('Kanwal'))\n"
   ]
  },
  {
   "cell_type": "markdown",
   "id": "eefc68b6",
   "metadata": {},
   "source": [
    "# Practice 3"
   ]
  },
  {
   "cell_type": "code",
   "execution_count": 10,
   "id": "35e8189b",
   "metadata": {},
   "outputs": [
    {
     "name": "stdout",
     "output_type": "stream",
     "text": [
      "Enter your name:Kanwal\n",
      "Enter your age:20\n",
      "Enter your hobbies:Singing,coking,coding\n",
      "Enter your fav_songs:Dynamite,Pink Venom\n",
      "{'name': 'Kanwal', 'age': '20', 'hobbies': ['Singing', 'coking', 'coding'], 'fav_songs': ['Dynamite', 'Pink Venom']}\n"
     ]
    }
   ],
   "source": [
    "user_info = {}\n",
    "user_info['name'] = input(\"Enter your name:\")\n",
    "user_info['age'] = input(\"Enter your age:\")\n",
    "user_info['hobbies'] = input(\"Enter your hobbies:\").split(\",\")\n",
    "user_info['fav_songs'] = input(\"Enter your fav_songs:\").split(\",\")\n",
    "print(user_info)"
   ]
  },
  {
   "cell_type": "markdown",
   "id": "25f7c42b",
   "metadata": {},
   "source": []
  },
  {
   "cell_type": "code",
   "execution_count": null,
   "id": "7e7d7d7e",
   "metadata": {},
   "outputs": [],
   "source": []
  }
 ],
 "metadata": {
  "kernelspec": {
   "display_name": "Python 3 (ipykernel)",
   "language": "python",
   "name": "python3"
  },
  "language_info": {
   "codemirror_mode": {
    "name": "ipython",
    "version": 3
   },
   "file_extension": ".py",
   "mimetype": "text/x-python",
   "name": "python",
   "nbconvert_exporter": "python",
   "pygments_lexer": "ipython3",
   "version": "3.11.4"
  }
 },
 "nbformat": 4,
 "nbformat_minor": 5
}
