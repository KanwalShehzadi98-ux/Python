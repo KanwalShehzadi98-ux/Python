{
 "cells": [
  {
   "cell_type": "markdown",
   "id": "f932c8ca",
   "metadata": {},
   "source": [
    "# Dictionary"
   ]
  },
  {
   "cell_type": "markdown",
   "id": "bf2d3883",
   "metadata": {},
   "source": [
    "### Unordered Collection of data \n",
    "### Data is stored in key value pairs\n",
    "### Because of the limitations of lists,lists are not enough to represent real world data"
   ]
  },
  {
   "cell_type": "code",
   "execution_count": 5,
   "id": "085d89a9",
   "metadata": {},
   "outputs": [
    {
     "name": "stdout",
     "output_type": "stream",
     "text": [
      "{'name': 'Kanwal', 'age': 20}\n",
      "Kanwal\n",
      "<class 'dict'>\n"
     ]
    }
   ],
   "source": [
    "user = {\n",
    "    'name':'Kanwal',\n",
    "    'age':20\n",
    "}\n",
    "print(user)\n",
    "print(user['name'])\n",
    "print(type(user))"
   ]
  },
  {
   "cell_type": "code",
   "execution_count": 6,
   "id": "054ed45d",
   "metadata": {},
   "outputs": [
    {
     "name": "stdout",
     "output_type": "stream",
     "text": [
      "{'name': 'Kanwal', 'age': 20}\n",
      "Kanwal\n",
      "<class 'dict'>\n"
     ]
    }
   ],
   "source": [
    "user = dict(name='Kanwal',age=20)\n",
    "print(user)\n",
    "print(user['name'])\n",
    "print(type(user))"
   ]
  },
  {
   "cell_type": "code",
   "execution_count": 9,
   "id": "b84586e9",
   "metadata": {},
   "outputs": [
    {
     "name": "stdout",
     "output_type": "stream",
     "text": [
      "['a', 'b', 'c']\n"
     ]
    }
   ],
   "source": [
    "user_info = {\n",
    "    'name':'Kanwal',\n",
    "    'age':20,\n",
    "    'fav_movies':['a','b','c'],\n",
    "    'fav-tunes':['d','e','f']\n",
    "}\n",
    "print(user_info['fav_movies'])"
   ]
  },
  {
   "cell_type": "code",
   "execution_count": 16,
   "id": "6e3baa36",
   "metadata": {},
   "outputs": [
    {
     "name": "stdout",
     "output_type": "stream",
     "text": [
      "{'user_1': {'name': 'Kanwal', 'age': 20, 'fav_movies': ['a', 'b', 'c'], 'fav-tunes': ['d', 'e', 'f']}}\n",
      "{'name': 'Kanwal', 'age': 20, 'fav_movies': ['a', 'b', 'c'], 'fav-tunes': ['d', 'e', 'f']}\n",
      "Kanwal\n"
     ]
    }
   ],
   "source": [
    "user_info1 = {\n",
    "    'user_1' : {\n",
    "        'name':'Kanwal',\n",
    "        'age':20,\n",
    "        'fav_movies':['a','b','c'],\n",
    "        'fav-tunes':['d','e','f']\n",
    "    }\n",
    "}\n",
    "print(user_info1)\n",
    "print(user_info1['user_1'])\n",
    "print(user_info1['user_1']['name'])"
   ]
  },
  {
   "cell_type": "code",
   "execution_count": 17,
   "id": "4123d3f3",
   "metadata": {},
   "outputs": [
    {
     "name": "stdout",
     "output_type": "stream",
     "text": [
      "{'name': 'Kanwal', 'age': 20}\n"
     ]
    }
   ],
   "source": [
    "user_info1 = {}\n",
    "user_info1['name'] = \"Kanwal\"\n",
    "user_info1['age'] = 20\n",
    "print(user_info1)"
   ]
  },
  {
   "cell_type": "markdown",
   "id": "af0de6c3",
   "metadata": {},
   "source": [
    "\n",
    "# Check if key exists in a dictionary"
   ]
  },
  {
   "cell_type": "code",
   "execution_count": 21,
   "id": "c0d6b3fb",
   "metadata": {},
   "outputs": [
    {
     "name": "stdout",
     "output_type": "stream",
     "text": [
      "name\n",
      "age\n",
      "fav_movies\n",
      "fav-tunes\n",
      "Present\n"
     ]
    }
   ],
   "source": [
    "user_info = {\n",
    "    'name':'Kanwal',\n",
    "    'age':20,\n",
    "    'fav_movies':['a','b','c'],\n",
    "    'fav-tunes':['d','e','f']\n",
    "}\n",
    "for i in user_info:\n",
    "    print(i)\n",
    "if 'name' in user_info:\n",
    "    print(\"Present\")\n",
    "else:\n",
    "    print(\"Not Present\")"
   ]
  },
  {
   "cell_type": "markdown",
   "id": "1e03e45d",
   "metadata": {},
   "source": [
    "# Check if value exists in a dictionary"
   ]
  },
  {
   "cell_type": "code",
   "execution_count": 24,
   "id": "a6abfa77",
   "metadata": {},
   "outputs": [
    {
     "name": "stdout",
     "output_type": "stream",
     "text": [
      "Present\n",
      "Present\n",
      "Not Present\n"
     ]
    }
   ],
   "source": [
    "user_info = {\n",
    "    'name':'Kanwal',\n",
    "    'age':20,\n",
    "    'fav_movies':['a','b','c'],\n",
    "    'fav-tunes':['d','e','f']\n",
    "}\n",
    "if 'Kanwal' in user_info.values():\n",
    "    print(\"Present\")\n",
    "else:\n",
    "    print(\"Not Present\")\n",
    "if 20 in user_info.values():\n",
    "    print(\"Present\")\n",
    "else:\n",
    "    print(\"Not Present\")\n",
    "if '20' in user_info.values():\n",
    "    print(\"Present\")\n",
    "else:\n",
    "    print(\"Not Present\")"
   ]
  },
  {
   "cell_type": "markdown",
   "id": "df967840",
   "metadata": {},
   "source": [
    "# Keys are mostly string or int"
   ]
  },
  {
   "cell_type": "code",
   "execution_count": 25,
   "id": "f4412dc4",
   "metadata": {},
   "outputs": [
    {
     "name": "stdout",
     "output_type": "stream",
     "text": [
      "Present\n"
     ]
    }
   ],
   "source": [
    "user_info = {\n",
    "    'name':'Kanwal',\n",
    "    'age':20,\n",
    "    'fav_movies':['a','b','c'],\n",
    "    'fav-tunes':['d','e','f']\n",
    "}\n",
    "if ['a','b','c'] in user_info.values():\n",
    "    print(\"Present\")\n",
    "else:\n",
    "    print(\"Not Present\")\n"
   ]
  },
  {
   "cell_type": "markdown",
   "id": "cdd63c9f",
   "metadata": {},
   "source": [
    "# Looping in keys"
   ]
  },
  {
   "cell_type": "code",
   "execution_count": 26,
   "id": "b1812625",
   "metadata": {},
   "outputs": [
    {
     "name": "stdout",
     "output_type": "stream",
     "text": [
      "name\n",
      "age\n",
      "fav_movies\n",
      "fav-tunes\n"
     ]
    }
   ],
   "source": [
    "user_info = {\n",
    "    'name':'Kanwal',\n",
    "    'age':20,\n",
    "    'fav_movies':['a','b','c'],\n",
    "    'fav-tunes':['d','e','f']\n",
    "}\n",
    "for i in user_info:\n",
    "    print(i)"
   ]
  },
  {
   "cell_type": "markdown",
   "id": "04a9e5ff",
   "metadata": {},
   "source": [
    "# Looping in Values"
   ]
  },
  {
   "cell_type": "code",
   "execution_count": 27,
   "id": "a0f867c5",
   "metadata": {},
   "outputs": [
    {
     "name": "stdout",
     "output_type": "stream",
     "text": [
      "Kanwal\n",
      "20\n",
      "['a', 'b', 'c']\n",
      "['d', 'e', 'f']\n"
     ]
    }
   ],
   "source": [
    "user_info = {\n",
    "    'name':'Kanwal',\n",
    "    'age':20,\n",
    "    'fav_movies':['a','b','c'],\n",
    "    'fav-tunes':['d','e','f']\n",
    "}\n",
    "for i in user_info.values():\n",
    "    print(i)"
   ]
  },
  {
   "cell_type": "markdown",
   "id": "686e24ef",
   "metadata": {},
   "source": [
    "# Looping in Both keys and values"
   ]
  },
  {
   "cell_type": "code",
   "execution_count": 28,
   "id": "31010edf",
   "metadata": {},
   "outputs": [
    {
     "name": "stdout",
     "output_type": "stream",
     "text": [
      "name:Kanwal\n",
      "age:20\n",
      "fav_movies:['a', 'b', 'c']\n",
      "fav-tunes:['d', 'e', 'f']\n"
     ]
    }
   ],
   "source": [
    "user_info = {\n",
    "    'name':'Kanwal',\n",
    "    'age':20,\n",
    "    'fav_movies':['a','b','c'],\n",
    "    'fav-tunes':['d','e','f']\n",
    "}\n",
    "for key,value in user_info.items():\n",
    "    print(f\"{key}:{value}\")"
   ]
  },
  {
   "cell_type": "code",
   "execution_count": null,
   "id": "d1cb07cc",
   "metadata": {},
   "outputs": [],
   "source": []
  }
 ],
 "metadata": {
  "kernelspec": {
   "display_name": "Python 3 (ipykernel)",
   "language": "python",
   "name": "python3"
  },
  "language_info": {
   "codemirror_mode": {
    "name": "ipython",
    "version": 3
   },
   "file_extension": ".py",
   "mimetype": "text/x-python",
   "name": "python",
   "nbconvert_exporter": "python",
   "pygments_lexer": "ipython3",
   "version": "3.11.4"
  }
 },
 "nbformat": 4,
 "nbformat_minor": 5
}
