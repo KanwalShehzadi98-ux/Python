{
 "cells": [
  {
   "cell_type": "markdown",
   "id": "6be3480c",
   "metadata": {},
   "source": [
    "# How to add/delete data in dictionary"
   ]
  },
  {
   "cell_type": "markdown",
   "id": "4f973f26",
   "metadata": {},
   "source": [
    "# Add"
   ]
  },
  {
   "cell_type": "code",
   "execution_count": 8,
   "id": "8f406cdd",
   "metadata": {},
   "outputs": [
    {
     "name": "stdout",
     "output_type": "stream",
     "text": [
      "{'name': 'Kanwal', 'fav_songs': ['MyLove', 'Radhadhadha']}\n"
     ]
    }
   ],
   "source": [
    "user_info = {}\n",
    "user_info['name'] = \"Kanwal\"\n",
    "user_info['fav_songs'] = ['MyLove','Radhadhadha']\n",
    "print(user_info)"
   ]
  },
  {
   "cell_type": "markdown",
   "id": "74f5c42e",
   "metadata": {},
   "source": [
    "# Delete"
   ]
  },
  {
   "cell_type": "code",
   "execution_count": 9,
   "id": "4522e0c6",
   "metadata": {},
   "outputs": [
    {
     "name": "stdout",
     "output_type": "stream",
     "text": [
      "{'name': 'Kanwal', 'fav_songs': ['MyLove', 'Radhadhadha']}\n"
     ]
    }
   ],
   "source": [
    "print(user_info)"
   ]
  },
  {
   "cell_type": "code",
   "execution_count": 10,
   "id": "bef59853",
   "metadata": {},
   "outputs": [
    {
     "name": "stdout",
     "output_type": "stream",
     "text": [
      "{'fav_songs': ['MyLove', 'Radhadhadha']}\n",
      "Kanwal\n"
     ]
    }
   ],
   "source": [
    "popped = user_info.pop('name')\n",
    "print(user_info)\n",
    "print(popped)"
   ]
  },
  {
   "cell_type": "markdown",
   "id": "69bc9ec4",
   "metadata": {},
   "source": [
    "# Randomly Delete"
   ]
  },
  {
   "cell_type": "code",
   "execution_count": 13,
   "id": "15bac05c",
   "metadata": {},
   "outputs": [
    {
     "name": "stdout",
     "output_type": "stream",
     "text": [
      "{'name': 'Kanwal'}\n",
      "('fav_songs', ['MyLove', 'Radhadhadha'])\n"
     ]
    }
   ],
   "source": [
    "user_info = {}\n",
    "user_info['name'] = \"Kanwal\"\n",
    "user_info['fav_songs'] = ['MyLove','Radhadhadha']\n",
    "popped = user_info.popitem()\n",
    "print(user_info)\n",
    "print(popped)"
   ]
  },
  {
   "cell_type": "code",
   "execution_count": null,
   "id": "8efd46f7",
   "metadata": {},
   "outputs": [],
   "source": []
  }
 ],
 "metadata": {
  "kernelspec": {
   "display_name": "Python 3 (ipykernel)",
   "language": "python",
   "name": "python3"
  },
  "language_info": {
   "codemirror_mode": {
    "name": "ipython",
    "version": 3
   },
   "file_extension": ".py",
   "mimetype": "text/x-python",
   "name": "python",
   "nbconvert_exporter": "python",
   "pygments_lexer": "ipython3",
   "version": "3.11.4"
  }
 },
 "nbformat": 4,
 "nbformat_minor": 5
}
