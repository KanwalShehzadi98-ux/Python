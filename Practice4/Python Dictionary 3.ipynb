{
 "cells": [
  {
   "cell_type": "markdown",
   "id": "8dba3af8",
   "metadata": {},
   "source": [
    "# Update Dictionary"
   ]
  },
  {
   "cell_type": "code",
   "execution_count": 3,
   "id": "0e11696e",
   "metadata": {},
   "outputs": [
    {
     "name": "stdout",
     "output_type": "stream",
     "text": [
      "{'name': 'Kanwal', 'age': 20, 'class': 'BSE-5B', 'hobbies': ['cooking', 'coding'], 'blood_group': 'B+', 'height': '5 2'}\n"
     ]
    }
   ],
   "source": [
    "user_info = {\n",
    "    'name':'Kanwal',\n",
    "    'age':20,\n",
    "    'class':'BSE-5B',\n",
    "    'hobbies':['cooking','coding']\n",
    "}\n",
    "\n",
    "user_more_info = {\n",
    "    'blood_group':'B+',\n",
    "    'height':'5 2'\n",
    "}\n",
    "user_info.update(user_more_info)\n",
    "print(user_info)"
   ]
  },
  {
   "cell_type": "markdown",
   "id": "ba637d85",
   "metadata": {},
   "source": [
    "### <li>fromkeys</li> <br> <li>get</li> <br><li>copy</li><br> <li>clear</li>"
   ]
  },
  {
   "cell_type": "markdown",
   "id": "eb120b52",
   "metadata": {},
   "source": [
    "# fromkeys"
   ]
  },
  {
   "cell_type": "code",
   "execution_count": 5,
   "id": "e85b9304",
   "metadata": {},
   "outputs": [
    {
     "name": "stdout",
     "output_type": "stream",
     "text": [
      "{'name': 'unknown', 'age': 'unknown', 'class': 'unknown', 'hobbies': 'unknown'}\n"
     ]
    }
   ],
   "source": [
    "d = dict.fromkeys(['name','age','class','hobbies'],'unknown')\n",
    "print(d)"
   ]
  },
  {
   "cell_type": "code",
   "execution_count": 6,
   "id": "ec724c47",
   "metadata": {},
   "outputs": [
    {
     "name": "stdout",
     "output_type": "stream",
     "text": [
      "{'name': 'unknown', 'age': 'unknown', 'class': 'unknown', 'hobbies': 'unknown'}\n"
     ]
    }
   ],
   "source": [
    "d = dict.fromkeys(('name','age','class','hobbies'),'unknown')\n",
    "print(d)"
   ]
  },
  {
   "cell_type": "code",
   "execution_count": 7,
   "id": "3fa864a5",
   "metadata": {},
   "outputs": [
    {
     "name": "stdout",
     "output_type": "stream",
     "text": [
      "{'n': 'unknown', 'a': 'unknown', 'm': 'unknown', 'e': 'unknown'}\n"
     ]
    }
   ],
   "source": [
    "d = dict.fromkeys('name','unknown')\n",
    "print(d)"
   ]
  },
  {
   "cell_type": "code",
   "execution_count": 8,
   "id": "bfc75ddc",
   "metadata": {},
   "outputs": [
    {
     "name": "stdout",
     "output_type": "stream",
     "text": [
      "{'name': ['unknown1', 'unknown2'], 'age': ['unknown1', 'unknown2'], 'class': ['unknown1', 'unknown2']}\n"
     ]
    }
   ],
   "source": [
    "d = dict.fromkeys(['name','age','class'],['unknown1','unknown2'])\n",
    "print(d)"
   ]
  },
  {
   "cell_type": "code",
   "execution_count": 11,
   "id": "d47a3a20",
   "metadata": {},
   "outputs": [
    {
     "name": "stdout",
     "output_type": "stream",
     "text": [
      "{1: ['unknown1', 'unknown2'], 2: ['unknown1', 'unknown2'], 3: ['unknown1', 'unknown2'], 4: ['unknown1', 'unknown2']}\n"
     ]
    }
   ],
   "source": [
    "d = dict.fromkeys(range(1,5),['unknown1','unknown2'])\n",
    "print(d)"
   ]
  },
  {
   "cell_type": "markdown",
   "id": "1e1ba8f4",
   "metadata": {},
   "source": [
    "# get"
   ]
  },
  {
   "cell_type": "code",
   "execution_count": 14,
   "id": "c7d92c25",
   "metadata": {},
   "outputs": [
    {
     "ename": "KeyError",
     "evalue": "'namessss'",
     "output_type": "error",
     "traceback": [
      "\u001b[1;31m---------------------------------------------------------------------------\u001b[0m",
      "\u001b[1;31mKeyError\u001b[0m                                  Traceback (most recent call last)",
      "Cell \u001b[1;32mIn[14], line 7\u001b[0m\n\u001b[0;32m      1\u001b[0m user_info \u001b[38;5;241m=\u001b[39m {\n\u001b[0;32m      2\u001b[0m     \u001b[38;5;124m'\u001b[39m\u001b[38;5;124mname\u001b[39m\u001b[38;5;124m'\u001b[39m:\u001b[38;5;124m'\u001b[39m\u001b[38;5;124mKanwal\u001b[39m\u001b[38;5;124m'\u001b[39m,\n\u001b[0;32m      3\u001b[0m     \u001b[38;5;124m'\u001b[39m\u001b[38;5;124mage\u001b[39m\u001b[38;5;124m'\u001b[39m:\u001b[38;5;241m20\u001b[39m,\n\u001b[0;32m      4\u001b[0m     \u001b[38;5;124m'\u001b[39m\u001b[38;5;124mclass\u001b[39m\u001b[38;5;124m'\u001b[39m:\u001b[38;5;124m'\u001b[39m\u001b[38;5;124mBSE-5B\u001b[39m\u001b[38;5;124m'\u001b[39m,\n\u001b[0;32m      5\u001b[0m     \u001b[38;5;124m'\u001b[39m\u001b[38;5;124mhobbies\u001b[39m\u001b[38;5;124m'\u001b[39m:[\u001b[38;5;124m'\u001b[39m\u001b[38;5;124mcooking\u001b[39m\u001b[38;5;124m'\u001b[39m,\u001b[38;5;124m'\u001b[39m\u001b[38;5;124mcoding\u001b[39m\u001b[38;5;124m'\u001b[39m]\n\u001b[0;32m      6\u001b[0m }\n\u001b[1;32m----> 7\u001b[0m \u001b[38;5;28mprint\u001b[39m(user_info[\u001b[38;5;124m'\u001b[39m\u001b[38;5;124mnamessss\u001b[39m\u001b[38;5;124m'\u001b[39m])\n",
      "\u001b[1;31mKeyError\u001b[0m: 'namessss'"
     ]
    }
   ],
   "source": [
    "user_info = {\n",
    "    'name':'Kanwal',\n",
    "    'age':20,\n",
    "    'class':'BSE-5B',\n",
    "    'hobbies':['cooking','coding']\n",
    "}\n",
    "print(user_info['namessss'])"
   ]
  },
  {
   "cell_type": "code",
   "execution_count": 16,
   "id": "7ed85ab9",
   "metadata": {},
   "outputs": [
    {
     "name": "stdout",
     "output_type": "stream",
     "text": [
      "None\n"
     ]
    }
   ],
   "source": [
    "user_info = {\n",
    "    'name':'Kanwal',\n",
    "    'age':20,\n",
    "    'class':'BSE-5B',\n",
    "    'hobbies':['cooking','coding']\n",
    "}\n",
    "print(user_info.get('namessss'))"
   ]
  },
  {
   "cell_type": "markdown",
   "id": "f672c0bd",
   "metadata": {},
   "source": [
    "## More about get()"
   ]
  },
  {
   "cell_type": "code",
   "execution_count": 25,
   "id": "4e1c6eff",
   "metadata": {},
   "outputs": [
    {
     "name": "stdout",
     "output_type": "stream",
     "text": [
      "Not Found Man!\n"
     ]
    }
   ],
   "source": [
    "user_info = {\n",
    "    'name':'Kanwal',\n",
    "    'age':20,\n",
    "    'class':'BSE-5B',\n",
    "    'hobbies':['cooking','coding']\n",
    "}\n",
    "print(user_info.get('namessss',\"Not Found Man!\"))"
   ]
  },
  {
   "cell_type": "markdown",
   "id": "e718ba1e",
   "metadata": {},
   "source": [
    "# clear()"
   ]
  },
  {
   "cell_type": "code",
   "execution_count": 18,
   "id": "4f4740d6",
   "metadata": {},
   "outputs": [
    {
     "name": "stdout",
     "output_type": "stream",
     "text": [
      "{}\n"
     ]
    }
   ],
   "source": [
    "user_info = {\n",
    "    'name':'Kanwal',\n",
    "    'age':20,\n",
    "    'class':'BSE-5B',\n",
    "    'hobbies':['cooking','coding']\n",
    "}\n",
    "user_info.clear()\n",
    "print(user_info)"
   ]
  },
  {
   "cell_type": "markdown",
   "id": "8f64dfee",
   "metadata": {},
   "source": [
    "# copy()"
   ]
  },
  {
   "cell_type": "code",
   "execution_count": 19,
   "id": "eac62b82",
   "metadata": {},
   "outputs": [
    {
     "name": "stdout",
     "output_type": "stream",
     "text": [
      "{'name': 'Kanwal', 'age': 20, 'class': 'BSE-5B', 'hobbies': ['cooking', 'coding']}\n"
     ]
    }
   ],
   "source": [
    "user_info = {\n",
    "    'name':'Kanwal',\n",
    "    'age':20,\n",
    "    'class':'BSE-5B',\n",
    "    'hobbies':['cooking','coding']\n",
    "}\n",
    "user_info_copy = user_info.copy()\n",
    "print(user_info_copy)"
   ]
  },
  {
   "cell_type": "code",
   "execution_count": 24,
   "id": "e6bb0dcd",
   "metadata": {},
   "outputs": [
    {
     "name": "stdout",
     "output_type": "stream",
     "text": [
      "False\n"
     ]
    }
   ],
   "source": [
    "user_info = {\n",
    "    'name':'Kanwal',\n",
    "    'age':20,\n",
    "    'class':'BSE-5B',\n",
    "    'hobbies':['cooking','coding']\n",
    "}\n",
    "user_info_copy = user_info.copy()\n",
    "print(user_info_copy is user_info)"
   ]
  },
  {
   "cell_type": "code",
   "execution_count": 21,
   "id": "a054b8a0",
   "metadata": {},
   "outputs": [
    {
     "name": "stdout",
     "output_type": "stream",
     "text": [
      "{'name': 'Kanwal', 'age': 20, 'class': 'BSE-5B', 'hobbies': ['cooking', 'coding']}\n",
      "{'name': 'Kanwal', 'age': 20, 'class': 'BSE-5B', 'hobbies': ['cooking', 'coding']}\n"
     ]
    }
   ],
   "source": [
    "user_info = {\n",
    "    'name':'Kanwal',\n",
    "    'age':20,\n",
    "    'class':'BSE-5B',\n",
    "    'hobbies':['cooking','coding']\n",
    "}\n",
    "user_info_copy = user_info\n",
    "print(user_info)\n",
    "print(user_info_copy)"
   ]
  },
  {
   "cell_type": "code",
   "execution_count": 22,
   "id": "ca78228b",
   "metadata": {},
   "outputs": [
    {
     "name": "stdout",
     "output_type": "stream",
     "text": [
      "True\n"
     ]
    }
   ],
   "source": [
    "user_info = {\n",
    "    'name':'Kanwal',\n",
    "    'age':20,\n",
    "    'class':'BSE-5B',\n",
    "    'hobbies':['cooking','coding']\n",
    "}\n",
    "user_info_copy = user_info\n",
    "print(user_info is user_info_copy)"
   ]
  },
  {
   "cell_type": "code",
   "execution_count": 23,
   "id": "b80c4b41",
   "metadata": {},
   "outputs": [
    {
     "name": "stdout",
     "output_type": "stream",
     "text": [
      "True\n"
     ]
    }
   ],
   "source": [
    "user_info = {\n",
    "    'name':'Kanwal',\n",
    "    'age':20,\n",
    "    'class':'BSE-5B',\n",
    "    'hobbies':['cooking','coding']\n",
    "}\n",
    "user_info_copy = user_info\n",
    "print(user_info == user_info_copy)"
   ]
  },
  {
   "cell_type": "code",
   "execution_count": null,
   "id": "75089119",
   "metadata": {},
   "outputs": [],
   "source": []
  }
 ],
 "metadata": {
  "kernelspec": {
   "display_name": "Python 3 (ipykernel)",
   "language": "python",
   "name": "python3"
  },
  "language_info": {
   "codemirror_mode": {
    "name": "ipython",
    "version": 3
   },
   "file_extension": ".py",
   "mimetype": "text/x-python",
   "name": "python",
   "nbconvert_exporter": "python",
   "pygments_lexer": "ipython3",
   "version": "3.11.4"
  }
 },
 "nbformat": 4,
 "nbformat_minor": 5
}
