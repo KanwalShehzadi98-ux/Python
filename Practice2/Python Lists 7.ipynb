{
 "cells": [
  {
   "cell_type": "markdown",
   "id": "2813af8a",
   "metadata": {},
   "source": [
    "# Min and Max Functions"
   ]
  },
  {
   "cell_type": "code",
   "execution_count": 3,
   "id": "8f2edfd7",
   "metadata": {},
   "outputs": [
    {
     "name": "stdout",
     "output_type": "stream",
     "text": [
      "MAX = 20\n",
      "MIN = 5\n"
     ]
    }
   ],
   "source": [
    "nums = [5,6,20]\n",
    "print(f\"MAX = {max(nums)}\")\n",
    "print(f\"MIN = {min(nums)}\")"
   ]
  },
  {
   "cell_type": "markdown",
   "id": "35b9db44",
   "metadata": {},
   "source": [
    "# Greatest Difference"
   ]
  },
  {
   "cell_type": "code",
   "execution_count": null,
   "id": "b269bc8a",
   "metadata": {},
   "outputs": [],
   "source": []
  },
  {
   "cell_type": "code",
   "execution_count": 6,
   "id": "360545d8",
   "metadata": {},
   "outputs": [
    {
     "name": "stdout",
     "output_type": "stream",
     "text": [
      "Greatest difference is:98\n"
     ]
    }
   ],
   "source": [
    "nums = [5,6,20,70,-9,89]\n",
    "def greatest_diff(list):\n",
    "    return max(nums) - min(nums)\n",
    "print(f\"Greatest difference is:{greatest_diff(nums)}\")"
   ]
  },
  {
   "cell_type": "markdown",
   "id": "8325d658",
   "metadata": {},
   "source": [
    "# Check Number of lists in a single list"
   ]
  },
  {
   "cell_type": "code",
   "execution_count": 8,
   "id": "bc312cdd",
   "metadata": {},
   "outputs": [
    {
     "name": "stdout",
     "output_type": "stream",
     "text": [
      "0\n"
     ]
    }
   ],
   "source": [
    "nums = [[1,2,3],[4,5],[8,54]]\n",
    "def count_list(list):\n",
    "    count = 0\n",
    "    for i in list:\n",
    "        if type(i) == list:\n",
    "            count += 1\n",
    "    return count\n",
    "print(count_list(nums))"
   ]
  },
  {
   "cell_type": "code",
   "execution_count": null,
   "id": "922afd2d",
   "metadata": {},
   "outputs": [],
   "source": []
  }
 ],
 "metadata": {
  "kernelspec": {
   "display_name": "Python 3 (ipykernel)",
   "language": "python",
   "name": "python3"
  },
  "language_info": {
   "codemirror_mode": {
    "name": "ipython",
    "version": 3
   },
   "file_extension": ".py",
   "mimetype": "text/x-python",
   "name": "python",
   "nbconvert_exporter": "python",
   "pygments_lexer": "ipython3",
   "version": "3.11.4"
  }
 },
 "nbformat": 4,
 "nbformat_minor": 5
}
