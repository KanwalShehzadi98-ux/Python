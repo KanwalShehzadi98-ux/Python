{
 "cells": [
  {
   "cell_type": "markdown",
   "id": "40e057ab",
   "metadata": {},
   "source": [
    "# Python Lists 3"
   ]
  },
  {
   "cell_type": "markdown",
   "id": "be22b8bf",
   "metadata": {},
   "source": [
    "# (1)  <p>is vs ==</p>"
   ]
  },
  {
   "cell_type": "code",
   "execution_count": 1,
   "id": "b43218af",
   "metadata": {},
   "outputs": [
    {
     "name": "stdout",
     "output_type": "stream",
     "text": [
      "True\n"
     ]
    }
   ],
   "source": [
    "fruits1 = [\"apple\",\"mango\",\"pear\"]\n",
    "fruits2 = [\"apple\",\"mango\",\"pear\"]\n",
    "print(fruits1 == fruits2)"
   ]
  },
  {
   "cell_type": "code",
   "execution_count": 2,
   "id": "0e6387cb",
   "metadata": {},
   "outputs": [
    {
     "name": "stdout",
     "output_type": "stream",
     "text": [
      "False\n"
     ]
    }
   ],
   "source": [
    "fruits1 = [\"apple\",\"mango\",\"pear\"]\n",
    "fruits2 = [\"apple\",\"mango\",\"pear\"]\n",
    "print(fruits1 is fruits2)"
   ]
  },
  {
   "cell_type": "markdown",
   "id": "1a26c1bd",
   "metadata": {},
   "source": [
    "# (2) <p>Split vs Join</p>\n",
    "### Split ------> Converts String to List\n",
    "### Join ------> Converts List to String"
   ]
  },
  {
   "cell_type": "code",
   "execution_count": 3,
   "id": "6636034d",
   "metadata": {},
   "outputs": [
    {
     "name": "stdout",
     "output_type": "stream",
     "text": [
      "['Kanwal', '20']\n"
     ]
    }
   ],
   "source": [
    "user_info = \"Kanwal 20\".split()\n",
    "print(user_info)"
   ]
  },
  {
   "cell_type": "code",
   "execution_count": 7,
   "id": "0db09fd0",
   "metadata": {},
   "outputs": [
    {
     "name": "stdout",
     "output_type": "stream",
     "text": [
      "Kanwal\n",
      "20\n"
     ]
    }
   ],
   "source": [
    "name,age = \"Kanwal 20\".split()\n",
    "print(name)\n",
    "print(age)"
   ]
  },
  {
   "cell_type": "code",
   "execution_count": 6,
   "id": "447964cb",
   "metadata": {},
   "outputs": [
    {
     "name": "stdout",
     "output_type": "stream",
     "text": [
      "Kanwal,20\n"
     ]
    }
   ],
   "source": [
    "user_info = [\"Kanwal\",\"20\"]\n",
    "print(','.join(user_info))"
   ]
  },
  {
   "cell_type": "code",
   "execution_count": null,
   "id": "33d55ec6",
   "metadata": {},
   "outputs": [],
   "source": []
  }
 ],
 "metadata": {
  "kernelspec": {
   "display_name": "Python 3 (ipykernel)",
   "language": "python",
   "name": "python3"
  },
  "language_info": {
   "codemirror_mode": {
    "name": "ipython",
    "version": 3
   },
   "file_extension": ".py",
   "mimetype": "text/x-python",
   "name": "python",
   "nbconvert_exporter": "python",
   "pygments_lexer": "ipython3",
   "version": "3.11.4"
  }
 },
 "nbformat": 4,
 "nbformat_minor": 5
}
