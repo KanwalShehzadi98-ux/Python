{
 "cells": [
  {
   "cell_type": "markdown",
   "id": "8db24a71",
   "metadata": {},
   "source": [
    "# Python Lists Part 2"
   ]
  },
  {
   "cell_type": "markdown",
   "id": "a8acba80",
   "metadata": {},
   "source": [
    "# Some More List Methods\n",
    "####    1.clear() \n",
    "####    2.copy()\n",
    "####    3.sort() \n",
    "####    4.sorted()\n",
    "####    5.count()"
   ]
  },
  {
   "cell_type": "markdown",
   "id": "537120f7",
   "metadata": {},
   "source": [
    "# count()"
   ]
  },
  {
   "cell_type": "code",
   "execution_count": 6,
   "id": "c6675c6f",
   "metadata": {},
   "outputs": [
    {
     "name": "stdout",
     "output_type": "stream",
     "text": [
      "1\n"
     ]
    }
   ],
   "source": [
    "fruits = [\"Apple\",\"Banana\",\"Grapes\",\"Pear\",\"Mango\"]\n",
    "print(fruits.count(\"Apple\"))"
   ]
  },
  {
   "cell_type": "markdown",
   "id": "3372f75f",
   "metadata": {},
   "source": [
    "# copy"
   ]
  },
  {
   "cell_type": "code",
   "execution_count": 7,
   "id": "e1d66971",
   "metadata": {},
   "outputs": [
    {
     "name": "stdout",
     "output_type": "stream",
     "text": [
      "['Apple', 'Banana', 'Grapes', 'Pear', 'Mango']\n"
     ]
    }
   ],
   "source": [
    "fruits = [\"Apple\",\"Banana\",\"Grapes\",\"Pear\",\"Mango\"]\n",
    "new_fruits = fruits.copy()\n",
    "print(new_fruits)"
   ]
  },
  {
   "cell_type": "markdown",
   "id": "fb7017e3",
   "metadata": {},
   "source": [
    "# clear"
   ]
  },
  {
   "cell_type": "code",
   "execution_count": 10,
   "id": "87e07247",
   "metadata": {},
   "outputs": [
    {
     "name": "stdout",
     "output_type": "stream",
     "text": [
      "[]\n"
     ]
    }
   ],
   "source": [
    "fruits = [\"Apple\",\"Banana\",\"Grapes\",\"Pear\",\"Mango\"]\n",
    "fruits.clear()\n",
    "print(fruits)"
   ]
  },
  {
   "cell_type": "markdown",
   "id": "e8fff2ca",
   "metadata": {},
   "source": [
    "# sort()"
   ]
  },
  {
   "cell_type": "code",
   "execution_count": 12,
   "id": "6c366b81",
   "metadata": {},
   "outputs": [
    {
     "name": "stdout",
     "output_type": "stream",
     "text": [
      "['Apple', 'Banana', 'Grapes', 'Mango', 'Pear']\n"
     ]
    }
   ],
   "source": [
    "fruits = [\"Grapes\",\"Pear\",\"Mango\",\"Banana\",\"Apple\"]\n",
    "fruits.sort()\n",
    "print(fruits)"
   ]
  },
  {
   "cell_type": "markdown",
   "id": "77b0138c",
   "metadata": {},
   "source": [
    "# sorted()"
   ]
  },
  {
   "cell_type": "raw",
   "id": "2c5cd58c",
   "metadata": {},
   "source": []
  },
  {
   "cell_type": "code",
   "execution_count": 15,
   "id": "7ecc6002",
   "metadata": {},
   "outputs": [
    {
     "name": "stdout",
     "output_type": "stream",
     "text": [
      "['Apple', 'Banana', 'Grapes', 'Mango', 'Pear']\n"
     ]
    }
   ],
   "source": [
    "fruits = [\"Grapes\",\"Pear\",\"Mango\",\"Banana\",\"Apple\"]\n",
    "print(sorted(fruits))"
   ]
  },
  {
   "cell_type": "code",
   "execution_count": null,
   "id": "c1aa0539",
   "metadata": {},
   "outputs": [],
   "source": []
  }
 ],
 "metadata": {
  "kernelspec": {
   "display_name": "Python 3 (ipykernel)",
   "language": "python",
   "name": "python3"
  },
  "language_info": {
   "codemirror_mode": {
    "name": "ipython",
    "version": 3
   },
   "file_extension": ".py",
   "mimetype": "text/x-python",
   "name": "python",
   "nbconvert_exporter": "python",
   "pygments_lexer": "ipython3",
   "version": "3.11.4"
  }
 },
 "nbformat": 4,
 "nbformat_minor": 5
}
