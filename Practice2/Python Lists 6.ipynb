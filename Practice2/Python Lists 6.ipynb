{
 "cells": [
  {
   "cell_type": "markdown",
   "id": "11e12307",
   "metadata": {},
   "source": [
    "# Exercise 1"
   ]
  },
  {
   "cell_type": "code",
   "execution_count": 2,
   "id": "284b2bac",
   "metadata": {},
   "outputs": [
    {
     "name": "stdout",
     "output_type": "stream",
     "text": [
      "[-1, -2, -3, -4, -5]\n"
     ]
    }
   ],
   "source": [
    "numbers = [1,2,3,4,5]\n",
    "def negative_list(list):\n",
    "    negative = []\n",
    "    for i in list:\n",
    "        negative.append(-i)\n",
    "    return negative\n",
    "print(negative_list(numbers))"
   ]
  },
  {
   "cell_type": "markdown",
   "id": "5bbdf95b",
   "metadata": {},
   "source": [
    "# Exercise 2"
   ]
  },
  {
   "cell_type": "code",
   "execution_count": 3,
   "id": "9cfaa388",
   "metadata": {},
   "outputs": [
    {
     "name": "stdout",
     "output_type": "stream",
     "text": [
      "[1, 4, 9, 16, 25, 36, 49, 64, 81, 100]\n"
     ]
    }
   ],
   "source": [
    "def square_list(list):\n",
    "    square = []\n",
    "    for i in list:\n",
    "        square.append(i**2)\n",
    "    return square\n",
    "print(square_list(list(range(1,11))))"
   ]
  },
  {
   "cell_type": "markdown",
   "id": "290cc4ee",
   "metadata": {},
   "source": [
    "# Exercise 3"
   ]
  },
  {
   "cell_type": "code",
   "execution_count": 12,
   "id": "30c58a61",
   "metadata": {},
   "outputs": [
    {
     "name": "stdout",
     "output_type": "stream",
     "text": [
      "[-5, -4, -3, -2, -1]\n"
     ]
    }
   ],
   "source": [
    "numbers = [-1,-2,-3,-4,-5]\n",
    "def reverse_list(list):\n",
    "    reverse = []\n",
    "    for i in list[::-1]:\n",
    "         popped = list.pop()\n",
    "         reverse.append(popped)\n",
    "    return reverse\n",
    "print(reverse_list(numbers))"
   ]
  },
  {
   "cell_type": "markdown",
   "id": "46736c95",
   "metadata": {},
   "source": [
    "# Exercise 4"
   ]
  },
  {
   "cell_type": "code",
   "execution_count": 15,
   "id": "2e4d2fb0",
   "metadata": {},
   "outputs": [
    {
     "name": "stdout",
     "output_type": "stream",
     "text": [
      "['cba', 'fed', 'ihg']\n"
     ]
    }
   ],
   "source": [
    "string = [\"abc\",\"def\",\"ghi\"]\n",
    "def reverse_string(list):\n",
    "    reverse = []\n",
    "    for i in list:\n",
    "        reverse.append(i[::-1])\n",
    "    return reverse\n",
    "print(reverse_string(string))"
   ]
  },
  {
   "cell_type": "markdown",
   "id": "12c517d8",
   "metadata": {},
   "source": [
    "# Exercise 5 "
   ]
  },
  {
   "cell_type": "code",
   "execution_count": 19,
   "id": "e5fb050c",
   "metadata": {},
   "outputs": [
    {
     "name": "stdout",
     "output_type": "stream",
     "text": [
      "([2, 4, 6, 8, 10], [1, 3, 5, 7, 9])\n"
     ]
    }
   ],
   "source": [
    "def even_odd_list(list):\n",
    "    even_list = []\n",
    "    odd_list = []\n",
    "    for i in list:\n",
    "        if i % 2 == 0:\n",
    "            even_list.append(i)\n",
    "        else:\n",
    "            odd_list.append(i)\n",
    "    return even_list,odd_list\n",
    "print(even_odd_list(list(range(1,11))))"
   ]
  },
  {
   "cell_type": "markdown",
   "id": "bac9ab98",
   "metadata": {},
   "source": [
    "# Exercise 6"
   ]
  },
  {
   "cell_type": "code",
   "execution_count": 21,
   "id": "02f9f3da",
   "metadata": {},
   "outputs": [
    {
     "ename": "SyntaxError",
     "evalue": "unmatched ')' (2997281646.py, line 7)",
     "output_type": "error",
     "traceback": [
      "\u001b[1;36m  Cell \u001b[1;32mIn[21], line 7\u001b[1;36m\u001b[0m\n\u001b[1;33m    print(common_element(list(range(1,20))),list(range(3,30))))\u001b[0m\n\u001b[1;37m                                                              ^\u001b[0m\n\u001b[1;31mSyntaxError\u001b[0m\u001b[1;31m:\u001b[0m unmatched ')'\n"
     ]
    }
   ],
   "source": [
    "def common_element(list1,list2):\n",
    "    common_list = []\n",
    "    for i in list1:\n",
    "        if i in list2:\n",
    "            common_list.append(i)\n",
    "    reyurn common_list\n",
    "print(common_element(list(range(1,20))),list(range(3,30)))"
   ]
  },
  {
   "cell_type": "code",
   "execution_count": null,
   "id": "173fd46a",
   "metadata": {},
   "outputs": [],
   "source": []
  }
 ],
 "metadata": {
  "kernelspec": {
   "display_name": "Python 3 (ipykernel)",
   "language": "python",
   "name": "python3"
  },
  "language_info": {
   "codemirror_mode": {
    "name": "ipython",
    "version": 3
   },
   "file_extension": ".py",
   "mimetype": "text/x-python",
   "name": "python",
   "nbconvert_exporter": "python",
   "pygments_lexer": "ipython3",
   "version": "3.11.4"
  }
 },
 "nbformat": 4,
 "nbformat_minor": 5
}
