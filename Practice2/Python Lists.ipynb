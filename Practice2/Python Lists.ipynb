{
 "cells": [
  {
   "cell_type": "markdown",
   "id": "0fe484d6",
   "metadata": {},
   "source": [
    "#  <i>Introduction To List</i>"
   ]
  },
  {
   "cell_type": "markdown",
   "id": "eabeef03",
   "metadata": {},
   "source": [
    "# (1)<p>Ordered Collection of Items<p>"
   ]
  },
  {
   "cell_type": "code",
   "execution_count": 8,
   "id": "a263ee4c",
   "metadata": {},
   "outputs": [
    {
     "name": "stdout",
     "output_type": "stream",
     "text": [
      "[1, 2, 3, 4, 'five', 'six', 2.3, None]\n"
     ]
    }
   ],
   "source": [
    "mixed = [1,2,3,4,'five',\"six\",2.3,None]\n",
    "print(mixed)"
   ]
  },
  {
   "cell_type": "code",
   "execution_count": 9,
   "id": "02797daa",
   "metadata": {},
   "outputs": [
    {
     "name": "stdout",
     "output_type": "stream",
     "text": [
      "1\n"
     ]
    }
   ],
   "source": [
    "mixed = [1,2,3,4,'five',\"six\",2.3,None]\n",
    "print(mixed[0])"
   ]
  },
  {
   "cell_type": "code",
   "execution_count": 10,
   "id": "c75abd83",
   "metadata": {},
   "outputs": [
    {
     "name": "stdout",
     "output_type": "stream",
     "text": [
      "[1]\n"
     ]
    }
   ],
   "source": [
    "mixed = [1,2,3,4,'five',\"six\",2.3,None]\n",
    "print(mixed[:1])"
   ]
  },
  {
   "cell_type": "code",
   "execution_count": 12,
   "id": "9bc4027d",
   "metadata": {},
   "outputs": [
    {
     "name": "stdout",
     "output_type": "stream",
     "text": [
      "None\n"
     ]
    }
   ],
   "source": [
    "mixed = [1,2,3,4,'five',\"six\",2.3,None]\n",
    "print(mixed[-1])"
   ]
  },
  {
   "cell_type": "code",
   "execution_count": 13,
   "id": "ee3a8bda",
   "metadata": {},
   "outputs": [
    {
     "name": "stdout",
     "output_type": "stream",
     "text": [
      "[None, 2.3, 'six', 'five', 4, 3, 2, 1]\n"
     ]
    }
   ],
   "source": [
    "mixed = [1,2,3,4,'five',\"six\",2.3,None]\n",
    "print(mixed[::-1])"
   ]
  },
  {
   "cell_type": "markdown",
   "id": "51aa5f6f",
   "metadata": {},
   "source": [
    "# (2)<p>Lists are Mutable</p>"
   ]
  },
  {
   "cell_type": "code",
   "execution_count": 14,
   "id": "9becfd96",
   "metadata": {},
   "outputs": [
    {
     "name": "stdout",
     "output_type": "stream",
     "text": [
      "[1, 2, 'three', 4, 'five', 'six', 2.3, None]\n"
     ]
    }
   ],
   "source": [
    "mixed = [1,2,3,4,'five',\"six\",2.3,None]\n",
    "mixed[2] = \"three\"\n",
    "print(mixed)"
   ]
  },
  {
   "cell_type": "code",
   "execution_count": 16,
   "id": "d2d85297",
   "metadata": {},
   "outputs": [
    {
     "name": "stdout",
     "output_type": "stream",
     "text": [
      "[1, 2, 3, 4, 'five', 'three', 'four']\n"
     ]
    }
   ],
   "source": [
    "mixed = [1,2,3,4,'five',\"six\",2.3,None]\n",
    "mixed[5:] = [\"three\",\"four\"]\n",
    "print(mixed)"
   ]
  },
  {
   "cell_type": "markdown",
   "id": "bd226159",
   "metadata": {},
   "source": [
    "# (3)<p>Add Items to List</p>\n",
    "        1.Append\n",
    "        2.Extend\n",
    "        3.Insert\n"
   ]
  },
  {
   "cell_type": "markdown",
   "id": "72007f03",
   "metadata": {},
   "source": []
  },
  {
   "cell_type": "code",
   "execution_count": 18,
   "id": "900cc964",
   "metadata": {},
   "outputs": [
    {
     "name": "stdout",
     "output_type": "stream",
     "text": [
      "['Apple', 'Mango', 'Banana']\n"
     ]
    }
   ],
   "source": [
    "fruits = [\"Apple\",\"Mango\",\"Banana\"]\n",
    "print(fruits)\n"
   ]
  },
  {
   "cell_type": "code",
   "execution_count": 21,
   "id": "d455112c",
   "metadata": {},
   "outputs": [
    {
     "name": "stdout",
     "output_type": "stream",
     "text": [
      "['Apple', 'Mango', 'Banana', 'Grapes']\n"
     ]
    }
   ],
   "source": [
    "fruits = [\"Apple\",\"Mango\",\"Banana\"]\n",
    "fruits.append(\"Grapes\")\n",
    "print(fruits)"
   ]
  },
  {
   "cell_type": "code",
   "execution_count": 22,
   "id": "300f802e",
   "metadata": {},
   "outputs": [
    {
     "name": "stdout",
     "output_type": "stream",
     "text": [
      "['Apple', 'Mango', 'Banana', 'Pear', 'Orange']\n"
     ]
    }
   ],
   "source": [
    "fruits1 = [\"Apple\",\"Mango\",\"Banana\"]\n",
    "fruits2 = [\"Pear\",\"Orange\"]\n",
    "fruits1.extend(fruits2)\n",
    "print(fruits1)"
   ]
  },
  {
   "cell_type": "code",
   "execution_count": 24,
   "id": "d39d18b3",
   "metadata": {},
   "outputs": [
    {
     "name": "stdout",
     "output_type": "stream",
     "text": [
      "['Apple', 'Mango', 'strawberry', 'Banana']\n"
     ]
    }
   ],
   "source": [
    "fruits = [\"Apple\",\"Mango\",\"Banana\"]\n",
    "fruits.insert(2,\"strawberry\")\n",
    "print(fruits)"
   ]
  },
  {
   "cell_type": "code",
   "execution_count": 25,
   "id": "f3d37a85",
   "metadata": {},
   "outputs": [
    {
     "name": "stdout",
     "output_type": "stream",
     "text": [
      "['Apple', 'Mango', 'Banana', 'Pear', 'Orange']\n"
     ]
    }
   ],
   "source": [
    "fruits1 = [\"Apple\",\"Mango\",\"Banana\"]\n",
    "fruits2 = [\"Pear\",\"Orange\"]\n",
    "fruits3 = fruits1 + fruits2;\n",
    "print(fruits3)"
   ]
  },
  {
   "cell_type": "markdown",
   "id": "c27fb290",
   "metadata": {},
   "source": [
    "# (4) <p>Delete Items from the list</p>\n",
    "      1.del\n",
    "      2.remove()\n",
    "      3.pop()"
   ]
  },
  {
   "cell_type": "code",
   "execution_count": 27,
   "id": "bac96131",
   "metadata": {},
   "outputs": [
    {
     "name": "stdout",
     "output_type": "stream",
     "text": [
      "['Apple', 'Mango', 'Pear', 'Orange']\n"
     ]
    }
   ],
   "source": [
    "fruits = [\"Apple\",\"Mango\",\"Banana\",\"Pear\",\"Orange\"]\n",
    "del fruits[2]\n",
    "print(fruits)"
   ]
  },
  {
   "cell_type": "code",
   "execution_count": 30,
   "id": "20a1aa74",
   "metadata": {},
   "outputs": [
    {
     "name": "stdout",
     "output_type": "stream",
     "text": [
      "['Apple', 'Banana', 'Pear', 'Orange']\n"
     ]
    }
   ],
   "source": [
    "fruits = [\"Apple\",\"Mango\",\"Banana\",\"Pear\",\"Orange\"]\n",
    "fruits.pop(1)\n",
    "print(fruits)"
   ]
  },
  {
   "cell_type": "code",
   "execution_count": 31,
   "id": "9efd36c6",
   "metadata": {},
   "outputs": [
    {
     "name": "stdout",
     "output_type": "stream",
     "text": [
      "['Apple', 'Mango', 'Pear', 'Orange']\n"
     ]
    }
   ],
   "source": [
    "fruits = [\"Apple\",\"Mango\",\"Banana\",\"Pear\",\"Orange\"]\n",
    "fruits.remove(\"Banana\")\n",
    "print(fruits)"
   ]
  },
  {
   "cell_type": "markdown",
   "id": "c7d3beeb",
   "metadata": {},
   "source": [
    "\n"
   ]
  },
  {
   "cell_type": "markdown",
   "id": "056f8573",
   "metadata": {},
   "source": [
    "# (5) <p>In Keyword in List</p>"
   ]
  },
  {
   "cell_type": "code",
   "execution_count": 33,
   "id": "83e049b4",
   "metadata": {},
   "outputs": [],
   "source": []
  },
  {
   "cell_type": "code",
   "execution_count": 36,
   "id": "773e97a0",
   "metadata": {},
   "outputs": [
    {
     "name": "stdout",
     "output_type": "stream",
     "text": [
      "Present\n"
     ]
    }
   ],
   "source": [
    "fruits = [\"Apple\",\"Mango\",\"Banana\",\"Pear\",\"Orange\"]\n",
    "if \"Mango\" in fruits:\n",
    "    print(\"Present\")"
   ]
  },
  {
   "cell_type": "code",
   "execution_count": null,
   "id": "0b9ff8db",
   "metadata": {},
   "outputs": [],
   "source": []
  }
 ],
 "metadata": {
  "kernelspec": {
   "display_name": "Python 3 (ipykernel)",
   "language": "python",
   "name": "python3"
  },
  "language_info": {
   "codemirror_mode": {
    "name": "ipython",
    "version": 3
   },
   "file_extension": ".py",
   "mimetype": "text/x-python",
   "name": "python",
   "nbconvert_exporter": "python",
   "pygments_lexer": "ipython3",
   "version": "3.11.4"
  }
 },
 "nbformat": 4,
 "nbformat_minor": 5
}
