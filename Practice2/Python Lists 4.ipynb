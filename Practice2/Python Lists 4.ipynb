{
 "cells": [
  {
   "cell_type": "markdown",
   "id": "5b79e4e0",
   "metadata": {},
   "source": [
    "# Python Lists 4"
   ]
  },
  {
   "cell_type": "markdown",
   "id": "507dcbff",
   "metadata": {},
   "source": [
    "# (1) Lists Vs Array\n",
    "    Lists:Mixed Datatype\n",
    "    Array:Single DataType\n",
    "# (2) Lists Vs String\n",
    "    Lists:Mutable\n",
    "    String:Immutable"
   ]
  },
  {
   "cell_type": "markdown",
   "id": "cb848bd0",
   "metadata": {},
   "source": [
    "# (3) Looping In List"
   ]
  },
  {
   "cell_type": "code",
   "execution_count": 1,
   "id": "7f5d093a",
   "metadata": {},
   "outputs": [
    {
     "name": "stdout",
     "output_type": "stream",
     "text": [
      "Apple\n",
      "Mango\n",
      "Banana\n",
      "Pear\n",
      "Grapes\n"
     ]
    }
   ],
   "source": [
    "fruits = [\"Apple\",\"Mango\",\"Banana\",\"Pear\",\"Grapes\"]\n",
    "for fruit in fruits:\n",
    "    print(fruit)\n",
    "          "
   ]
  },
  {
   "cell_type": "markdown",
   "id": "b9af2b1f",
   "metadata": {},
   "source": [
    "# (4) List Inside List"
   ]
  },
  {
   "cell_type": "code",
   "execution_count": 2,
   "id": "41ffe020",
   "metadata": {},
   "outputs": [
    {
     "name": "stdout",
     "output_type": "stream",
     "text": [
      "[[0, 1, 2], [3, 4, 5], [6, 7, 8]]\n"
     ]
    }
   ],
   "source": [
    "matrix = [[0,1,2],[3,4,5],[6,7,8]]\n",
    "print(matrix)"
   ]
  },
  {
   "cell_type": "code",
   "execution_count": 3,
   "id": "53faddc8",
   "metadata": {},
   "outputs": [
    {
     "name": "stdout",
     "output_type": "stream",
     "text": [
      "0\n",
      "1\n",
      "2\n",
      "3\n",
      "4\n",
      "5\n",
      "6\n",
      "7\n",
      "8\n"
     ]
    }
   ],
   "source": [
    "matrix = [[0,1,2],[3,4,5],[6,7,8]]\n",
    "for item in matrix:\n",
    "    for i in item:\n",
    "        print(i)"
   ]
  },
  {
   "cell_type": "code",
   "execution_count": 4,
   "id": "f41e8fc4",
   "metadata": {},
   "outputs": [
    {
     "name": "stdout",
     "output_type": "stream",
     "text": [
      "4\n"
     ]
    }
   ],
   "source": [
    "matrix = [[0,1,2],[3,4,5],[6,7,8]]\n",
    "print(matrix[1][1])"
   ]
  },
  {
   "cell_type": "code",
   "execution_count": 5,
   "id": "8db4aa5a",
   "metadata": {},
   "outputs": [
    {
     "name": "stdout",
     "output_type": "stream",
     "text": [
      "<class 'list'>\n"
     ]
    }
   ],
   "source": [
    "matrix = [[0,1,2],[3,4,5],[6,7,8]]\n",
    "print(type(matrix))"
   ]
  },
  {
   "cell_type": "code",
   "execution_count": null,
   "id": "4cd60a98",
   "metadata": {},
   "outputs": [],
   "source": []
  }
 ],
 "metadata": {
  "kernelspec": {
   "display_name": "Python 3 (ipykernel)",
   "language": "python",
   "name": "python3"
  },
  "language_info": {
   "codemirror_mode": {
    "name": "ipython",
    "version": 3
   },
   "file_extension": ".py",
   "mimetype": "text/x-python",
   "name": "python",
   "nbconvert_exporter": "python",
   "pygments_lexer": "ipython3",
   "version": "3.11.4"
  }
 },
 "nbformat": 4,
 "nbformat_minor": 5
}
