{
 "cells": [
  {
   "cell_type": "markdown",
   "id": "d07be3d5",
   "metadata": {},
   "source": [
    "# Python Lists 5"
   ]
  },
  {
   "cell_type": "markdown",
   "id": "4385e625",
   "metadata": {},
   "source": [
    "# (1)range in list"
   ]
  },
  {
   "cell_type": "code",
   "execution_count": 1,
   "id": "d3bd56f7",
   "metadata": {},
   "outputs": [
    {
     "name": "stdout",
     "output_type": "stream",
     "text": [
      "[1, 2, 3, 4, 5, 6, 7, 8, 9, 10]\n"
     ]
    }
   ],
   "source": [
    "numbers = list(range(1,11))\n",
    "print(numbers)"
   ]
  },
  {
   "cell_type": "markdown",
   "id": "a20803ad",
   "metadata": {},
   "source": [
    "# (2)index in list"
   ]
  },
  {
   "cell_type": "code",
   "execution_count": 3,
   "id": "4ba205ee",
   "metadata": {},
   "outputs": [
    {
     "name": "stdout",
     "output_type": "stream",
     "text": [
      "0\n"
     ]
    }
   ],
   "source": [
    "#index of 1\n",
    "print(numbers.index(1))"
   ]
  },
  {
   "cell_type": "code",
   "execution_count": 4,
   "id": "54dcb777",
   "metadata": {},
   "outputs": [
    {
     "name": "stdout",
     "output_type": "stream",
     "text": [
      "8\n"
     ]
    }
   ],
   "source": [
    "print(numbers.index(9))"
   ]
  },
  {
   "cell_type": "code",
   "execution_count": 5,
   "id": "de7100b3",
   "metadata": {},
   "outputs": [
    {
     "ename": "ValueError",
     "evalue": "1 is not in list",
     "output_type": "error",
     "traceback": [
      "\u001b[1;31m---------------------------------------------------------------------------\u001b[0m",
      "\u001b[1;31mValueError\u001b[0m                                Traceback (most recent call last)",
      "Cell \u001b[1;32mIn[5], line 2\u001b[0m\n\u001b[0;32m      1\u001b[0m \u001b[38;5;66;03m#index of 1,start,end\u001b[39;00m\n\u001b[1;32m----> 2\u001b[0m \u001b[38;5;28mprint\u001b[39m(numbers\u001b[38;5;241m.\u001b[39mindex(\u001b[38;5;241m1\u001b[39m,\u001b[38;5;241m3\u001b[39m,\u001b[38;5;241m9\u001b[39m))\n",
      "\u001b[1;31mValueError\u001b[0m: 1 is not in list"
     ]
    }
   ],
   "source": [
    "#index of 1,start,end\n",
    "numbers \n",
    "print(numbers.index(1,3,9))"
   ]
  },
  {
   "cell_type": "code",
   "execution_count": null,
   "id": "616f85d2",
   "metadata": {},
   "outputs": [],
   "source": []
  }
 ],
 "metadata": {
  "kernelspec": {
   "display_name": "Python 3 (ipykernel)",
   "language": "python",
   "name": "python3"
  },
  "language_info": {
   "codemirror_mode": {
    "name": "ipython",
    "version": 3
   },
   "file_extension": ".py",
   "mimetype": "text/x-python",
   "name": "python",
   "nbconvert_exporter": "python",
   "pygments_lexer": "ipython3",
   "version": "3.11.4"
  }
 },
 "nbformat": 4,
 "nbformat_minor": 5
}
