{
 "cells": [
  {
   "cell_type": "markdown",
   "id": "9b31f93c",
   "metadata": {},
   "source": [
    "LAB01"
   ]
  },
  {
   "cell_type": "code",
   "execution_count": null,
   "id": "f3a7c7c2",
   "metadata": {},
   "outputs": [],
   "source": [
    "#1.\tWrite a Python program that prompts user to enter the birth year and returns age in year \n"
   ]
  },
  {
   "cell_type": "code",
   "execution_count": null,
   "id": "cd85bffc",
   "metadata": {},
   "outputs": [],
   "source": [
    "from datetime import datetime\n",
    "while True:\n",
    "    try:   \n",
    "      year = int(input(\"Enter your birth year(eg:2000):\"))\n",
    "      if len(str(year)) == 4:\n",
    "        break;\n",
    "      else:\n",
    "        print(\"Enter only 4 digit number\")\n",
    "    except ValueError:\n",
    "        print(\"Enter 4 digit number No other string or characters allowed!\")\n",
    "age = datetime.now().year - year\n",
    "print(\"Your age is:\",age)"
   ]
  },
  {
   "cell_type": "code",
   "execution_count": null,
   "id": "6d1561e1",
   "metadata": {},
   "outputs": [],
   "source": [
    "2.\t\"\"\"Write a python program that asks the user to input the cost of their meal as a float value. \n",
    "It then calculates the tip amount based on the meal cost. If the meal cost is less than 5000, the tip \n",
    "is calculated as 15% of the meal cost. If the meal cost is 5000 or more, the tip is calculated as 20% \n",
    "of the meal cost. The program then calculates the sales tax amount as 15% of the meal cost and calculates \n",
    "the total cost of the meal by adding the meal cost, tip amount, and sales tax amount together \"\"\""
   ]
  },
  {
   "cell_type": "code",
   "execution_count": null,
   "id": "d0d19b4f",
   "metadata": {},
   "outputs": [],
   "source": [
    "while True:\n",
    "    try:\n",
    "        meal_cost = float(input(\"Enter the cost of the meal:\"))\n",
    "        break;\n",
    "    except ValueError:\n",
    "        print(\"Enter the amount in numbers\")\n",
    "if meal_cost < 5000:\n",
    "    tip = 0.15 * meal_cost\n",
    "elif meal_cost >= 5000:\n",
    "    tip = 0.2 * meal_cost\n",
    "sales_tax = 0.15 * meal_cost\n",
    "total_cost = meal_cost + tip + sales_tax \n",
    "print(\"===============BILL===============\")\n",
    "print(f\"MEAL COST = ${meal_cost:.2f}\")\n",
    "print(f\"TIP = ${tip:.2f}\")\n",
    "print(f\"SALES TAX = ${sales_tax:.2f}\")\n",
    "print(f\"TOTAL COST = ${total_cost:.2f}\")"
   ]
  },
  {
   "cell_type": "code",
   "execution_count": null,
   "id": "66164041",
   "metadata": {},
   "outputs": [],
   "source": [
    "\"\"\"3.\tWrite Python program that asks the user for their age, education status, and years of work experience. \n",
    "The program first checks if the user is at least 18 years old, and then checks if they have a Bachelor's degree. \n",
    "If the user has a Bachelor's degree, the program checks if they have at least 2 years of work experience. \n",
    "If the user meets all of these conditions, the program prints a message congratulating them on their eligibility \n",
    "for the job. If the user does not meet any of these conditions, the program prints a message explaining why they \n",
    "are not eligible for the job.\"\"\""
   ]
  },
  {
   "cell_type": "code",
   "execution_count": null,
   "id": "3e45acf3",
   "metadata": {},
   "outputs": [],
   "source": [
    "while True:\n",
    "    try:\n",
    "        age = int(input(\"Enter your age:\"))\n",
    "        if age <= 0 or age > 99:\n",
    "            raise ValueError(\"Invalid age.Only numbers allowed\")\n",
    "        education = input(\"Do you have the Bachelor's degree (Y/N):\").lower()\n",
    "        if education not in ['y','n']:\n",
    "            raise ValueError(\"Type Y or N only\")\n",
    "        years = int(input(\"Enter the years of your experience:\"))\n",
    "        if years < 0:\n",
    "           raise ValueError(\"Only numbers are allowed\")\n",
    "        break;\n",
    "    except ValueError as e:\n",
    "        print(\"Wrong input!!!\" ,e)\n",
    "ineligibility = []\n",
    "if not age >= 18:\n",
    "    ineligibility.append(\"You do not meet our age criteria\")\n",
    "if education != 'y':\n",
    "    ineligibility.append(\"You do not meet our education criteria\")\n",
    "if not years >= 2:\n",
    "    ineligibility.append(\"You do not meet our experience criteria\")\n",
    "if ineligibility : \n",
    "    for reason in ineligibility:\n",
    "        print(\"\\n\",reason,\".\")\n",
    "else:\n",
    "    print(\"Congratulations!! You are selected\")"
   ]
  },
  {
   "cell_type": "code",
   "execution_count": null,
   "id": "79cc8dee",
   "metadata": {},
   "outputs": [],
   "source": [
    "4.\t#Write a python program to calculate factorial of a given number"
   ]
  },
  {
   "cell_type": "code",
   "execution_count": 3,
   "id": "067a31b2",
   "metadata": {},
   "outputs": [
    {
     "name": "stdout",
     "output_type": "stream",
     "text": [
      "Enter any number:5\n",
      "Factorial is: 120\n"
     ]
    }
   ],
   "source": [
    "def factorial(n):\n",
    "    i = n\n",
    "    fact = 1\n",
    "    while(i > 0):\n",
    "        fact *= i\n",
    "        i -= 1\n",
    "    print(\"Factorial is:\",fact)\n",
    "while True:\n",
    "    try:\n",
    "        num = int(input(\"Enter any number:\"))\n",
    "        break;\n",
    "    except ValueError:\n",
    "        print(\"Only Numbers are allowed\")\n",
    "factorial(num)"
   ]
  },
  {
   "cell_type": "code",
   "execution_count": null,
   "id": "7d55a87b",
   "metadata": {},
   "outputs": [],
   "source": [
    "\"\"\"5.\tWrite a program to check if the number is 0 , positive even/odd , or the number is negative.\n",
    "After that iterate over the numbers from 0 up to the entered number and check if each number is even \n",
    "or odd and how many numbers in total were even and odd\"\"\""
   ]
  },
  {
   "cell_type": "code",
   "execution_count": 28,
   "id": "ba3e3e8e",
   "metadata": {},
   "outputs": [
    {
     "name": "stdout",
     "output_type": "stream",
     "text": [
      "Enter any number:4\n",
      "The given number ( 4 ) is POSITIVE\n",
      "The given number ( 4 ) is an EVEN NUMBER\n",
      "============================================\n",
      "The given number ( 0 ) is an EVEN NUMBER\n",
      "The given number ( 1 ) is an ODD NUMBER\n",
      "The given number ( 2 ) is an EVEN NUMBER\n",
      "The given number ( 3 ) is an ODD NUMBER\n",
      "============================================\n",
      "Even Numbers Count =  3\n",
      "Odd Numbers Count =  2\n"
     ]
    }
   ],
   "source": [
    "even_count = 0\n",
    "odd_count = 0\n",
    "def checkEvenOdd(n):\n",
    "    global even_count, odd_count\n",
    "    if n%2 == 0:\n",
    "        print(\"The given number (\",n,\") is an EVEN NUMBER\")\n",
    "        even_count += 1\n",
    "    else:\n",
    "        print(\"The given number (\",n,\") is an ODD NUMBER\")\n",
    "        odd_count += 1\n",
    "while True:\n",
    "    try:\n",
    "        num = int(input(\"Enter any number:\"))\n",
    "        break;\n",
    "    except ValueError:\n",
    "        print(\"Only numbers allowed\")\n",
    "if num == 0:\n",
    "    print(\"The given number (\",num,\") is ZERO\")\n",
    "elif num < 0:\n",
    "    print(\"The given number (\",num,\") is NEGATIVE\")\n",
    "else:\n",
    "    print(\"The given number (\",num,\") is POSITIVE\")\n",
    "    checkEvenOdd(num)\n",
    "    print(\"============================================\")\n",
    "    for i in range(num):\n",
    "        checkEvenOdd(i)\n",
    "    print(\"============================================\")\n",
    "    print(\"Even Numbers Count = \",even_count)\n",
    "    print(\"Odd Numbers Count = \",odd_count)"
   ]
  },
  {
   "cell_type": "code",
   "execution_count": null,
   "id": "161bf223",
   "metadata": {},
   "outputs": [],
   "source": []
  },
  {
   "cell_type": "code",
   "execution_count": null,
   "id": "4547a05f",
   "metadata": {},
   "outputs": [],
   "source": []
  }
 ],
 "metadata": {
  "kernelspec": {
   "display_name": "Python 3 (ipykernel)",
   "language": "python",
   "name": "python3"
  },
  "language_info": {
   "codemirror_mode": {
    "name": "ipython",
    "version": 3
   },
   "file_extension": ".py",
   "mimetype": "text/x-python",
   "name": "python",
   "nbconvert_exporter": "python",
   "pygments_lexer": "ipython3",
   "version": "3.11.4"
  }
 },
 "nbformat": 4,
 "nbformat_minor": 5
}
