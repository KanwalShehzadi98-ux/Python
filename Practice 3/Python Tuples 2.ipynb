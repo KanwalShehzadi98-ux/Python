{
 "cells": [
  {
   "cell_type": "markdown",
   "id": "1dceea25",
   "metadata": {},
   "source": [
    "# How to create Tuples"
   ]
  },
  {
   "cell_type": "code",
   "execution_count": 1,
   "id": "4dfc6a7e",
   "metadata": {},
   "outputs": [
    {
     "name": "stdout",
     "output_type": "stream",
     "text": [
      "(1, 2, 3, 4, 5, 6, 7, 8, 9, 10)\n"
     ]
    }
   ],
   "source": [
    "nums = tuple(range(1,11))\n",
    "print(nums)"
   ]
  },
  {
   "cell_type": "markdown",
   "id": "c02f947f",
   "metadata": {},
   "source": [
    "# Change Tuple to List"
   ]
  },
  {
   "cell_type": "code",
   "execution_count": 2,
   "id": "b0efe41b",
   "metadata": {},
   "outputs": [
    {
     "data": {
      "text/plain": [
       "[1, 2, 3, 4, 5]"
      ]
     },
     "execution_count": 2,
     "metadata": {},
     "output_type": "execute_result"
    }
   ],
   "source": [
    "nums = list((1,2,3,4,5))\n",
    "nums"
   ]
  },
  {
   "cell_type": "markdown",
   "id": "33b920e1",
   "metadata": {},
   "source": [
    "# Change Tuple to String"
   ]
  },
  {
   "cell_type": "code",
   "execution_count": 3,
   "id": "ea562b69",
   "metadata": {},
   "outputs": [
    {
     "data": {
      "text/plain": [
       "'(1, 2, 3, 4, 5)'"
      ]
     },
     "execution_count": 3,
     "metadata": {},
     "output_type": "execute_result"
    }
   ],
   "source": [
    "nums = str((1,2,3,4,5))\n",
    "nums"
   ]
  },
  {
   "cell_type": "markdown",
   "id": "6f4120cb",
   "metadata": {},
   "source": [
    "# Change List to string"
   ]
  },
  {
   "cell_type": "code",
   "execution_count": 4,
   "id": "e8cac475",
   "metadata": {},
   "outputs": [],
   "source": [
    "nums = str(list(range(1,11)))"
   ]
  },
  {
   "cell_type": "code",
   "execution_count": 5,
   "id": "592b1b03",
   "metadata": {},
   "outputs": [
    {
     "data": {
      "text/plain": [
       "'[1, 2, 3, 4, 5, 6, 7, 8, 9, 10]'"
      ]
     },
     "execution_count": 5,
     "metadata": {},
     "output_type": "execute_result"
    }
   ],
   "source": [
    "nums"
   ]
  },
  {
   "cell_type": "code",
   "execution_count": null,
   "id": "49cf8506",
   "metadata": {},
   "outputs": [],
   "source": []
  }
 ],
 "metadata": {
  "kernelspec": {
   "display_name": "Python 3 (ipykernel)",
   "language": "python",
   "name": "python3"
  },
  "language_info": {
   "codemirror_mode": {
    "name": "ipython",
    "version": 3
   },
   "file_extension": ".py",
   "mimetype": "text/x-python",
   "name": "python",
   "nbconvert_exporter": "python",
   "pygments_lexer": "ipython3",
   "version": "3.11.4"
  }
 },
 "nbformat": 4,
 "nbformat_minor": 5
}
