{
 "cells": [
  {
   "cell_type": "markdown",
   "id": "fcd628bf",
   "metadata": {},
   "source": [
    "# Python Tuples 1"
   ]
  },
  {
   "cell_type": "markdown",
   "id": "44bb9351",
   "metadata": {},
   "source": [
    "### Data Structure\n",
    "### Immutable\n",
    "### Can Store any data type\n",
    "### Tuples are faster than lists"
   ]
  },
  {
   "cell_type": "code",
   "execution_count": 1,
   "id": "80c19cf7",
   "metadata": {},
   "outputs": [
    {
     "name": "stdout",
     "output_type": "stream",
     "text": [
      "('monday', 'tuesday')\n"
     ]
    }
   ],
   "source": [
    "days = ('monday','tuesday')\n",
    "print(days)"
   ]
  },
  {
   "cell_type": "markdown",
   "id": "d339747f",
   "metadata": {},
   "source": [
    "# Methods"
   ]
  },
  {
   "cell_type": "markdown",
   "id": "5761e543",
   "metadata": {},
   "source": [
    "#### No Append/No Insert/No Pop/No Remove"
   ]
  },
  {
   "cell_type": "code",
   "execution_count": 3,
   "id": "b955faa1",
   "metadata": {},
   "outputs": [
    {
     "name": "stdout",
     "output_type": "stream",
     "text": [
      "('monday', 'tuesday', 'wednesday', 'thursday', 'friday', 'saturday', 'sunday')\n"
     ]
    }
   ],
   "source": [
    "days = ('monday','tuesday','wednesday','thursday','friday','saturday','sunday')\n",
    "print(days)"
   ]
  },
  {
   "cell_type": "markdown",
   "id": "fda9e237",
   "metadata": {},
   "source": [
    "# 1.count()"
   ]
  },
  {
   "cell_type": "code",
   "execution_count": 5,
   "id": "d4ee992c",
   "metadata": {},
   "outputs": [
    {
     "name": "stdout",
     "output_type": "stream",
     "text": [
      "1\n"
     ]
    }
   ],
   "source": [
    "days = ('monday','tuesday','wednesday','thursday','friday','saturday','sunday')\n",
    "print(days.count('monday'))"
   ]
  },
  {
   "cell_type": "markdown",
   "id": "037c6f5b",
   "metadata": {},
   "source": [
    "# 2.index()"
   ]
  },
  {
   "cell_type": "code",
   "execution_count": 8,
   "id": "29ce7ad0",
   "metadata": {},
   "outputs": [
    {
     "name": "stdout",
     "output_type": "stream",
     "text": [
      "1\n"
     ]
    }
   ],
   "source": [
    "days = ('monday','tuesday','wednesday','thursday','friday','saturday','sunday')\n",
    "print(days.index('tuesday'))"
   ]
  },
  {
   "cell_type": "code",
   "execution_count": 11,
   "id": "91eb14fb",
   "metadata": {},
   "outputs": [
    {
     "name": "stdout",
     "output_type": "stream",
     "text": [
      "4\n"
     ]
    }
   ],
   "source": [
    "days = ('monday','tuesday','wednesday','thursday','friday','saturday','sunday')\n",
    "print(days.index('friday',3,6))"
   ]
  },
  {
   "cell_type": "markdown",
   "id": "ad52b237",
   "metadata": {},
   "source": [
    "# 3.len()"
   ]
  },
  {
   "cell_type": "code",
   "execution_count": 12,
   "id": "0e77a835",
   "metadata": {},
   "outputs": [
    {
     "name": "stdout",
     "output_type": "stream",
     "text": [
      "7\n"
     ]
    }
   ],
   "source": [
    "days = ('monday','tuesday','wednesday','thursday','friday','saturday','sunday')\n",
    "print(len(days))"
   ]
  },
  {
   "cell_type": "markdown",
   "id": "55ce70d3",
   "metadata": {},
   "source": [
    "# 4.slicing"
   ]
  },
  {
   "cell_type": "code",
   "execution_count": 13,
   "id": "013a310b",
   "metadata": {},
   "outputs": [
    {
     "name": "stdout",
     "output_type": "stream",
     "text": [
      "('monday', 'tuesday')\n"
     ]
    }
   ],
   "source": [
    "days = ('monday','tuesday','wednesday','thursday','friday','saturday','sunday')\n",
    "print(days[:2])"
   ]
  },
  {
   "cell_type": "code",
   "execution_count": 15,
   "id": "607fb7f5",
   "metadata": {},
   "outputs": [
    {
     "name": "stdout",
     "output_type": "stream",
     "text": [
      "('monday', 'wednesday', 'friday', 'sunday')\n"
     ]
    }
   ],
   "source": [
    "days = ('monday','tuesday','wednesday','thursday','friday','saturday','sunday')\n",
    "print(days[0::2])"
   ]
  },
  {
   "cell_type": "code",
   "execution_count": 16,
   "id": "e0f483c5",
   "metadata": {},
   "outputs": [
    {
     "name": "stdout",
     "output_type": "stream",
     "text": [
      "('sunday', 'saturday', 'friday', 'thursday', 'wednesday', 'tuesday', 'monday')\n"
     ]
    }
   ],
   "source": [
    "days = ('monday','tuesday','wednesday','thursday','friday','saturday','sunday')\n",
    "print(days[::-1])"
   ]
  },
  {
   "cell_type": "code",
   "execution_count": 17,
   "id": "26007c44",
   "metadata": {},
   "outputs": [
    {
     "name": "stdout",
     "output_type": "stream",
     "text": [
      "('sunday', 'saturday', 'friday', 'thursday', 'wednesday', 'tuesday')\n"
     ]
    }
   ],
   "source": [
    "days = ('monday','tuesday','wednesday','thursday','friday','saturday','sunday')\n",
    "print(days[-1:-7:-1])"
   ]
  },
  {
   "cell_type": "code",
   "execution_count": 18,
   "id": "9ece71a3",
   "metadata": {},
   "outputs": [
    {
     "name": "stdout",
     "output_type": "stream",
     "text": [
      "()\n"
     ]
    }
   ],
   "source": [
    "days = ('monday','tuesday','wednesday','thursday','friday','saturday','sunday')\n",
    "print(days[-1:-7:1])"
   ]
  },
  {
   "cell_type": "code",
   "execution_count": 19,
   "id": "8f40e69b",
   "metadata": {},
   "outputs": [
    {
     "name": "stdout",
     "output_type": "stream",
     "text": [
      "()\n"
     ]
    }
   ],
   "source": [
    "days = ('monday','tuesday','wednesday','thursday','friday','saturday','sunday')\n",
    "print(days[0:6:-1])"
   ]
  },
  {
   "cell_type": "markdown",
   "id": "ed7827f1",
   "metadata": {},
   "source": [
    "# For loop in tuples"
   ]
  },
  {
   "cell_type": "code",
   "execution_count": 20,
   "id": "9336c205",
   "metadata": {},
   "outputs": [
    {
     "name": "stdout",
     "output_type": "stream",
     "text": [
      "1\n",
      "2\n",
      "3\n",
      "4\n",
      "9.0\n",
      "Kanwal\n",
      "Shehzadi\n",
      "None\n"
     ]
    }
   ],
   "source": [
    "mixed = (1,2,3,4,9.0,\"Kanwal\",\"Shehzadi\",None)\n",
    "for i in mixed:\n",
    "    print(i)"
   ]
  },
  {
   "cell_type": "markdown",
   "id": "a9e6d7af",
   "metadata": {},
   "source": [
    "# Tuples with one element"
   ]
  },
  {
   "cell_type": "code",
   "execution_count": 22,
   "id": "ff7b5e7f",
   "metadata": {},
   "outputs": [
    {
     "name": "stdout",
     "output_type": "stream",
     "text": [
      "<class 'int'>\n"
     ]
    }
   ],
   "source": [
    "nums = (1)\n",
    "print(type(nums))"
   ]
  },
  {
   "cell_type": "code",
   "execution_count": 23,
   "id": "25b49b0d",
   "metadata": {},
   "outputs": [
    {
     "name": "stdout",
     "output_type": "stream",
     "text": [
      "<class 'tuple'>\n"
     ]
    }
   ],
   "source": [
    "nums = (1,)\n",
    "print(type(nums))"
   ]
  },
  {
   "cell_type": "code",
   "execution_count": 25,
   "id": "2945bbb7",
   "metadata": {},
   "outputs": [
    {
     "name": "stdout",
     "output_type": "stream",
     "text": [
      "('yamaha', 'abc', 'xyz')\n",
      "<class 'tuple'>\n"
     ]
    }
   ],
   "source": [
    "guitars = 'yamaha','abc','xyz'\n",
    "print(guitars)\n",
    "print(type(guitars))"
   ]
  },
  {
   "cell_type": "code",
   "execution_count": 26,
   "id": "8201a561",
   "metadata": {},
   "outputs": [
    {
     "name": "stdout",
     "output_type": "stream",
     "text": [
      "A\n",
      "B\n",
      "C\n",
      "D\n"
     ]
    }
   ],
   "source": [
    "guitarists = ('A','B','C','D')\n",
    "g1,g2,g3,g4 = guitarists\n",
    "print(g1)\n",
    "print(g2)\n",
    "print(g3)\n",
    "print(g4)"
   ]
  },
  {
   "cell_type": "code",
   "execution_count": 27,
   "id": "ff6ec698",
   "metadata": {},
   "outputs": [
    {
     "name": "stdout",
     "output_type": "stream",
     "text": [
      "['A', ['B']]\n"
     ]
    }
   ],
   "source": [
    "favourites = ['A',['B','C']]\n",
    "favourites[1].pop()\n",
    "print(favourites)"
   ]
  },
  {
   "cell_type": "code",
   "execution_count": 28,
   "id": "c1c3b242",
   "metadata": {},
   "outputs": [
    {
     "name": "stdout",
     "output_type": "stream",
     "text": [
      "['A', ['B', 'C', 'We Made it']]\n"
     ]
    }
   ],
   "source": [
    "favourites = ['A',['B','C']]\n",
    "favourites[1].append(\"We Made it\")\n",
    "print(favourites)"
   ]
  },
  {
   "cell_type": "markdown",
   "id": "6508f5ac",
   "metadata": {},
   "source": [
    "# Tuples with min/max"
   ]
  },
  {
   "cell_type": "code",
   "execution_count": 29,
   "id": "c7a74f61",
   "metadata": {},
   "outputs": [
    {
     "name": "stdout",
     "output_type": "stream",
     "text": [
      "10\n",
      "1\n"
     ]
    }
   ],
   "source": [
    "my_tuple = (1,2,3,4,5,6,7,8,9,10)\n",
    "print(max(my_tuple))\n",
    "print(min(my_tuple))"
   ]
  },
  {
   "cell_type": "code",
   "execution_count": null,
   "id": "70ae82a2",
   "metadata": {},
   "outputs": [],
   "source": []
  }
 ],
 "metadata": {
  "kernelspec": {
   "display_name": "Python 3 (ipykernel)",
   "language": "python",
   "name": "python3"
  },
  "language_info": {
   "codemirror_mode": {
    "name": "ipython",
    "version": 3
   },
   "file_extension": ".py",
   "mimetype": "text/x-python",
   "name": "python",
   "nbconvert_exporter": "python",
   "pygments_lexer": "ipython3",
   "version": "3.11.4"
  }
 },
 "nbformat": 4,
 "nbformat_minor": 5
}
