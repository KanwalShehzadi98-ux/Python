{
 "cells": [
  {
   "cell_type": "code",
   "execution_count": null,
   "id": "9153da79",
   "metadata": {},
   "outputs": [],
   "source": [
    "string = \"Hello\"\n",
    "def my_func(s):\n",
    "    s[0] = 'J'\n",
    "my_func(string)"
   ]
  },
  {
   "cell_type": "code",
   "execution_count": null,
   "id": "9da683da",
   "metadata": {},
   "outputs": [],
   "source": [
    "my_list = [10,20,30,40,50,60]\n",
    "def my_func(l):\n",
    "    l.append(70)\n",
    "    return l\n",
    "print(f\"Modified List = {my_func(my_list)}\")\n",
    "print(f\"Original List = {my_list}\")"
   ]
  },
  {
   "cell_type": "code",
   "execution_count": null,
   "id": "2e5795a9",
   "metadata": {},
   "outputs": [],
   "source": [
    "my_tuple = ([11,22,33,44],);\n",
    "def my_func(t):\n",
    "    t[0] = 55\n",
    "    return t\n",
    "print(my_func(my_tuple))"
   ]
  },
  {
   "cell_type": "code",
   "execution_count": null,
   "id": "84311e63",
   "metadata": {},
   "outputs": [],
   "source": [
    "# deep copy vs shallow copy"
   ]
  },
  {
   "cell_type": "code",
   "execution_count": null,
   "id": "400ac728",
   "metadata": {},
   "outputs": [],
   "source": [
    "import copy\n",
    "my_list = [[1,2,3],[4,5]]\n",
    "shallow_copy = copy.copy(my_list)\n",
    "shallow_copy[0][0] = 100\n",
    "print(f\"Original = {my_list}\")\n",
    "print(f\"Shallow Copy = {shallow_copy}\")"
   ]
  },
  {
   "cell_type": "code",
   "execution_count": null,
   "id": "ab857c86",
   "metadata": {},
   "outputs": [],
   "source": [
    "import copy\n",
    "my_list = [[1,2,3],[4,5]]\n",
    "deep_copy = copy.deepcopy(my_list)\n",
    "deep_copy[0][0] = 100\n",
    "print(f\"Original = {my_list}\")\n",
    "print(f\"Deep Copy = {shallow_copy}\")"
   ]
  },
  {
   "cell_type": "code",
   "execution_count": null,
   "id": "0e1e3d5a",
   "metadata": {},
   "outputs": [],
   "source": [
    "my_list = []\n",
    "def my_func(value,l=[]):\n",
    "    l.append(value)\n",
    "    return l\n",
    "my_func(2)\n",
    "my_func(3)"
   ]
  },
  {
   "cell_type": "code",
   "execution_count": null,
   "id": "f0050607",
   "metadata": {},
   "outputs": [],
   "source": [
    "# Todo list"
   ]
  },
  {
   "cell_type": "code",
   "execution_count": null,
   "id": "08f909ae",
   "metadata": {},
   "outputs": [],
   "source": []
  },
  {
   "cell_type": "code",
   "execution_count": null,
   "id": "8824bdec",
   "metadata": {},
   "outputs": [],
   "source": [
    "class Task:\n",
    "    def __init__(self,task,status = \"pending\"):\n",
    "        self.task = task\n",
    "        self.status = status\n",
    "class Todo_list:\n",
    "    def __init__(self):\n",
    "        self.tasks = []\n",
    "    def add_task(self,task):\n",
    "        self.tasks.append(task)\n",
    "        print(f\"{task.task} added successfully\")\n",
    "    def remove_task(self,task):\n",
    "        for t in self.tasks: \n",
    "            if t.task == task.task:\n",
    "                self.tasks.remove(t)\n",
    "                print(f\"{task.task} removed successfully\")\n",
    "        print(f\"{task.task} does not exist\")\n",
    "    def display_task(self):\n",
    "        for i in self.tasks:\n",
    "            print(i.task,i.status)\n",
    "list_todo = Todo_list()\n",
    "task1 = Task(\"Lab05_SC\",\"pending\")\n",
    "task2 = Task(\"Lab05_CCN\")\n",
    "task3 = Task(\"Lab05_DS\")\n",
    "task4 = Task(\"Lab06_DS\")\n",
    "list_todo.add_task(task1);\n",
    "list_todo.add_task(task2);\n",
    "list_todo.add_task(task3);\n",
    "list_todo.add_task(task4);\n",
    "list_todo.display_task()\n",
    "list_todo.remove_task(task1)"
   ]
  },
  {
   "cell_type": "code",
   "execution_count": null,
   "id": "779f9d89",
   "metadata": {},
   "outputs": [],
   "source": [
    "#Book Management System Using Python"
   ]
  },
  {
   "cell_type": "code",
   "execution_count": null,
   "id": "069f5225",
   "metadata": {},
   "outputs": [
    {
     "name": "stdout",
     "output_type": "stream",
     "text": [
      "--------------------KANWAL SHEHZ BOOK MANAGEMENT SYSTEM-----------------------\n",
      "Select \n",
      "(1)Add \n",
      "(2)View \n",
      "(3)Borrow \n",
      "(4)Return \n",
      "(5)Search\n",
      "1\n",
      "Enter Book Title:Embedded System\n",
      "Enter Author Title:ABC\n",
      "Enter Publication Year:2023\n",
      "Book *Embedded System* Added Successfully\n",
      "Do you want to continue (y/n)?y\n",
      "Select \n",
      "(1)Add \n",
      "(2)View \n",
      "(3)Borrow \n",
      "(4)Return \n",
      "(5)Search\n",
      "1\n",
      "Enter Book Title:Software Construction\n",
      "Enter Author Title:XYZ\n",
      "Enter Publication Year:2012\n",
      "Book *Software Construction* Added Successfully\n",
      "Do you want to continue (y/n)?y\n",
      "Select \n",
      "(1)Add \n",
      "(2)View \n",
      "(3)Borrow \n",
      "(4)Return \n",
      "(5)Search\n",
      "5\n",
      "Search here!!!:Software Construction\n",
      "{'ID': 5, 'Title': 'Software Construction', 'Author': 'XYZ', 'Year': '2012', 'Borrowed': False}\n"
     ]
    }
   ],
   "source": [
    "class Book_data:\n",
    "    def __init__(self,_id,title,author,year,borrowed):\n",
    "        self._id = _id\n",
    "        self.title = title\n",
    "        self.author = author\n",
    "        self.year = year\n",
    "        self.borrowed = borrowed\n",
    "class Book_management:\n",
    "    def __init__(self):\n",
    "        self.books = []\n",
    "    def add_book(self,book):\n",
    "        self.books.append({\"ID\":book._id,\"Title\":book.title,\"Author\":book.author,\"Year\":book.year,\"Borrowed\":book.borrowed})\n",
    "        print(f\"Book *{book.title}* Added Successfully\")\n",
    "    def list_book(self):\n",
    "        print(self.books)\n",
    "    def borrow_book(self):\n",
    "        ans = input(\"Enter the name of the book you want to borrow:\")\n",
    "        for book in self.books:\n",
    "            if ans.lower() in book[\"Title\"].lower():\n",
    "                if book[\"Borrowed\"]:\n",
    "                    print(\"Book Already issued to someone else\")\n",
    "                    break;\n",
    "                if not book[\"Borrowed\"]:\n",
    "                    book[\"Borrowed\"] = True\n",
    "                    print(book[\"Title\"],\"Issued\")\n",
    "    def return_book(self):\n",
    "        ans = input(\"Enter the name of the book you want to return:\")\n",
    "        for book in self.books:\n",
    "            if ans.lower() in book[\"Title\"].lower():\n",
    "                if book[\"Borrowed\"]:\n",
    "                    print(\"Returned Successfully!\")\n",
    "                    book[\"Borrowed\"] = False\n",
    "                    break;\n",
    "                print(not book['Borrowed'])\n",
    "                if not book[\"Borrowed\"]:\n",
    "                    print(\"This book is not borrowed Man!!!\")\n",
    "    def search_book(self):\n",
    "        ans = input(\"Search here!!!:\")\n",
    "        for book in self.books:\n",
    "            if ans.lower() in book[\"Title\"].lower():\n",
    "                print(book)\n",
    "print(\"--------------------KANWAL SHEHZ BOOK MANAGEMENT SYSTEM-----------------------\")\n",
    "book_manager = Book_management()  \n",
    "count = 3;\n",
    "while(True):\n",
    "    ans = int(input(\"Select \\n(1)Add \\n(2)View \\n(3)Borrow \\n(4)Return \\n(5)Search\\n\"))\n",
    "    if ans == 1:\n",
    "        count = count+1\n",
    "        id_is = count\n",
    "        title = input(\"Enter Book Title:\")\n",
    "        author = input(\"Enter Author Title:\")\n",
    "        year = input(\"Enter Publication Year:\")\n",
    "        borrowed = False\n",
    "        book_obj = Book_data(id_is,title,author,year,borrowed)\n",
    "        book_manager.add_book(book_obj)\n",
    "    elif ans == 2:\n",
    "        book_manager.list_book()\n",
    "    elif ans == 3:\n",
    "        book_manager.borrow_book()\n",
    "    elif ans == 4:\n",
    "        book_manager.return_book()\n",
    "    elif ans == 5:\n",
    "        book_manager.search_book()\n",
    "    asked = input(\"Do you want to continue (y/n)?\").lower()\n",
    "    if asked != \"y\":\n",
    "        break;"
   ]
  },
  {
   "cell_type": "markdown",
   "id": "8a54108d",
   "metadata": {},
   "source": []
  },
  {
   "cell_type": "code",
   "execution_count": null,
   "id": "92ef5269",
   "metadata": {},
   "outputs": [],
   "source": []
  },
  {
   "cell_type": "code",
   "execution_count": null,
   "id": "d954b012",
   "metadata": {},
   "outputs": [],
   "source": []
  }
 ],
 "metadata": {
  "kernelspec": {
   "display_name": "Python 3 (ipykernel)",
   "language": "python",
   "name": "python3"
  },
  "language_info": {
   "codemirror_mode": {
    "name": "ipython",
    "version": 3
   },
   "file_extension": ".py",
   "mimetype": "text/x-python",
   "name": "python",
   "nbconvert_exporter": "python",
   "pygments_lexer": "ipython3",
   "version": "3.11.4"
  }
 },
 "nbformat": 4,
 "nbformat_minor": 5
}
