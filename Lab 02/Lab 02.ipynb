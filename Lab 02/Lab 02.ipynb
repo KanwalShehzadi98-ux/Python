{
 "cells": [
  {
   "cell_type": "code",
   "execution_count": null,
   "id": "f9cd2c53",
   "metadata": {},
   "outputs": [],
   "source": [
    "# Write a Function to capitalize the first and last letters of each word that is input"
   ]
  },
  {
   "cell_type": "code",
   "execution_count": null,
   "id": "3f113947",
   "metadata": {},
   "outputs": [],
   "source": [
    "def capitalize_input(l):\n",
    "    new_list = []\n",
    "    for word in l:\n",
    "        new_word = word[0].upper() + word[1:-1] + word[-1].upper()\n",
    "        new_list.append(new_word)\n",
    "    return new_list\n",
    "print(\"OUTPUT\".center(20,\"*\"))\n",
    "list = [\"kanwal\",\"aown\",\"abbas\",\"mishal\",\"fayyaz\",\"tasleem\",\"sh\"]\n",
    "print(capitalize_input(list))"
   ]
  },
  {
   "cell_type": "code",
   "execution_count": null,
   "id": "f8e5ceb5",
   "metadata": {},
   "outputs": [],
   "source": [
    "#  Write a function to find common values within two lists and append in new list named \"common_items\". \n",
    "# Use List comprehension for this"
   ]
  },
  {
   "cell_type": "code",
   "execution_count": null,
   "id": "f6f03bb1",
   "metadata": {},
   "outputs": [],
   "source": [
    "result = []\n",
    "def common_check(l1,l2):\n",
    "    new_list = []\n",
    "    for item in l1:\n",
    "        if item in l2:\n",
    "            new_list.append(item)\n",
    "    return new_list\n",
    "print(\"OUTPUT\".center(20,\"*\"))\n",
    "list1 = [\"Apple\",\"Mango\",\"Banana\",\"Pear\",\"Grapes\"]\n",
    "list2 = [\"Lotus\",\"Lily\",\"Rose\",\"Mango\",\"Grapes\"]\n",
    "print(common_check(list1,list2))\n"
   ]
  },
  {
   "cell_type": "code",
   "execution_count": null,
   "id": "63387b99",
   "metadata": {},
   "outputs": [],
   "source": [
    "# write code for the task that will take user input of names of three students, along with marks of three courses . \n",
    "# Calculate Marks obtained, Percentage and grade of each student. Append obt marks, percentage and grade in the list"
   ]
  },
  {
   "cell_type": "code",
   "execution_count": 1,
   "id": "413dffd7",
   "metadata": {},
   "outputs": [
    {
     "name": "stdout",
     "output_type": "stream",
     "text": [
      "Enter name:Kanwal\n",
      "Enter marks of course English : 90\n",
      "Enter marks of course Maths : 90\n",
      "Enter marks of course Physics : 78\n",
      "['Kanwal', 258.0, 86.0, 'A+']\n",
      "Enter name:Aown\n",
      "Enter marks of course English : 90\n",
      "Enter marks of course Maths : 99\n",
      "Enter marks of course Physics : 89\n",
      "['Aown', 278.0, 92.67, 'A+']\n",
      "Enter name:Abbas\n",
      "Enter marks of course English : 90\n",
      "Enter marks of course Maths : 89\n",
      "Enter marks of course Physics : 99\n",
      "['Abbas', 278.0, 92.67, 'A+']\n"
     ]
    }
   ],
   "source": [
    "for i in range(0,3):\n",
    "    result = []\n",
    "    name = input(\"Enter name:\")\n",
    "    result.append(name)\n",
    "    marks = 0\n",
    "    for i in range(0,3):\n",
    "        m = 0\n",
    "        course = [\"English\",\"Maths\",\"Physics\"]\n",
    "        while True:\n",
    "            try:\n",
    "                m = float(input(f\"Enter marks of \n",
    "                course {course[i]} : \"))\n",
    "                marks += m\n",
    "                break;\n",
    "            except ValueError:\n",
    "                print(\"Only Numbers allowed\")\n",
    "    result.append(marks)\n",
    "    percentage = round(marks*100/300,2)\n",
    "    result.append(percentage)\n",
    "    if percentage >= 80:\n",
    "        grade = 'A+'\n",
    "    elif percentage >= 70 and percentage <= 79:\n",
    "         grade = 'A'\n",
    "    elif percentage >= 60 and percentage <= 69:\n",
    "         grade = 'B'\n",
    "    elif percentage >= 50 and percentage <= 59:\n",
    "         grade = 'C'\n",
    "    elif percentage >= 40 and percentage <= 49:\n",
    "         grade = 'D'\n",
    "    else:\n",
    "        grade = \"Fail\"\n",
    "    result.append(grade)\n",
    "    print(result)"
   ]
  },
  {
   "cell_type": "markdown",
   "id": "d8c19899",
   "metadata": {},
   "source": []
  },
  {
   "cell_type": "code",
   "execution_count": null,
   "id": "f3d94817",
   "metadata": {},
   "outputs": [],
   "source": [
    "# On the basis of employees list mentioned above calculate average age of first two employees and \n",
    "# insert that age in next two employees"
   ]
  },
  {
   "cell_type": "code",
   "execution_count": 6,
   "id": "dae0841a",
   "metadata": {},
   "outputs": [
    {
     "name": "stdout",
     "output_type": "stream",
     "text": [
      "[['Kanwal', 20, 100000.0, 'Female'], ['Fayyaz', 30, 200000.0, 'Male'], ['Tasleem', 25.0, 'Female'], ['Aown', 25.0, 'Male']]\n"
     ]
    }
   ],
   "source": [
    "emp_in = 0\n",
    "employees_list = [\n",
    "    [\"Kanwal\",20,100000.0,\"Female\"],\n",
    "    [\"Fayyaz\",30,200000.0,\"Male\"],\n",
    "    [\"Tasleem\",300000.0,\"Female\"],\n",
    "    [\"Aown\",400000.0,\"Male\"],\n",
    "]\n",
    "for emp in employees_list[0:2]:\n",
    "    emp_in += emp[1]\n",
    "avg = emp_in/2 \n",
    "for emp in employees_list[2:]:\n",
    "    emp[1] = avg\n",
    "print(employees_list)"
   ]
  },
  {
   "cell_type": "code",
   "execution_count": null,
   "id": "51e9caa1",
   "metadata": {},
   "outputs": [],
   "source": [
    "#  using the employees list mention gender wise count of  employees"
   ]
  },
  {
   "cell_type": "code",
   "execution_count": 10,
   "id": "e1d33baa",
   "metadata": {},
   "outputs": [
    {
     "name": "stdout",
     "output_type": "stream",
     "text": [
      "{'Female': 2, 'Male': 2}\n"
     ]
    }
   ],
   "source": [
    "count_list = {}\n",
    "employees_list = [\n",
    "    [\"Kanwal\",20,100000.0,\"Female\"],\n",
    "    [\"Fayyaz\",30,200000.0,\"Male\"],\n",
    "    [\"Tasleem\",300000.0,\"Female\"],\n",
    "    [\"Aown\",400000.0,\"Male\"],\n",
    "]\n",
    "for emp in employees_list:\n",
    "    gender = emp[-1]\n",
    "    if gender in count_list:\n",
    "        count_list[gender] += 1\n",
    "    else:\n",
    "        count_list[gender] = 1\n",
    "print(count_list)"
   ]
  },
  {
   "cell_type": "code",
   "execution_count": null,
   "id": "9d7cdf81",
   "metadata": {},
   "outputs": [],
   "source": []
  }
 ],
 "metadata": {
  "kernelspec": {
   "display_name": "Python 3 (ipykernel)",
   "language": "python",
   "name": "python3"
  },
  "language_info": {
   "codemirror_mode": {
    "name": "ipython",
    "version": 3
   },
   "file_extension": ".py",
   "mimetype": "text/x-python",
   "name": "python",
   "nbconvert_exporter": "python",
   "pygments_lexer": "ipython3",
   "version": "3.11.4"
  }
 },
 "nbformat": 4,
 "nbformat_minor": 5
}
